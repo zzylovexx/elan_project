{
 "cells": [
  {
   "cell_type": "markdown",
   "id": "f95c2f07",
   "metadata": {},
   "source": [
    "# FASTER Get Pred Labels (40 min->10)"
   ]
  },
  {
   "cell_type": "code",
   "execution_count": 16,
   "id": "8cd47f03",
   "metadata": {},
   "outputs": [],
   "source": [
    "from torchvision.models import vgg\n",
    "from torch_lib.Model import *\n",
    "from torch_lib.ClassAverages import *\n",
    "from torchvision import transforms\n",
    "import os, glob, cv2\n",
    "from library.ron_utils import *\n",
    "\n",
    "def get_calibration_cam_to_image(cab_f):\n",
    "    for line in open(cab_f):\n",
    "        if 'P2:' in line:\n",
    "            cam_to_img = line.strip().split(' ')\n",
    "            cam_to_img = np.asarray([float(number) for number in cam_to_img[1:]])\n",
    "            cam_to_img = np.reshape(cam_to_img, (3, 4))\n",
    "            return cam_to_img\n",
    "\n",
    "def Run_GT_pred_labels(weights_path, pred_label_root, cuda=0):\n",
    "    device = torch.device(f'cuda:{cuda}')\n",
    "    os.makedirs(pred_label_root, exist_ok=True)\n",
    "    my_vgg = vgg.vgg19_bn(pretrained=True)\n",
    "    model = Model(features=my_vgg.features, bins=2).to(device)\n",
    "    \n",
    "    #因為train的時候在不同GPU上，eval要map到同個GPU https://www.jianshu.com/p/ec91b3b59f66\n",
    "    checkpoint = torch.load(weights_path, map_location=device)\n",
    "    model.load_state_dict(checkpoint['model_state_dict'])\n",
    "    model.eval()\n",
    "    # for img processing\n",
    "    normalize = transforms.Normalize(mean=[0.485, 0.456, 0.406], std=[0.229, 0.224, 0.225])\n",
    "    process = transforms.Compose([transforms.ToTensor(), normalize])\n",
    "\n",
    "    # Kitti image_2 dir / label_2 dir\n",
    "    img_root = \"./Kitti/training/image_2\"\n",
    "    label_root = \"./Kitti/training/label_2\"\n",
    "    calib_root = \"./Kitti/training/calib\"\n",
    "    extra_label_root = \"./Kitti/training/extra_label\"\n",
    "    ImageSets_root = './Kitti/ImageSets'\n",
    "    split = 'trainval'\n",
    "\n",
    "    images = glob.glob(os.path.join(img_root, '*.png'), recursive=True)\n",
    "    labels = glob.glob(os.path.join(label_root, '*.txt'), recursive=True)\n",
    "    calibs = glob.glob(os.path.join(calib_root, '*.txt'), recursive=True)\n",
    "    extra = glob.glob(os.path.join(extra_label_root, '*.txt'), recursive=True)\n",
    "\n",
    "    split_dir = os.path.join(ImageSets_root, split + '.txt')\n",
    "    ids = [int(x.strip()) for x in open(split_dir).readlines()]\n",
    "\n",
    "    # dim averages\n",
    "    averages_all = ClassAverages()\n",
    "    start = time.time()\n",
    "    for i in ids:\n",
    "        img = cv2.imread(images[i])\n",
    "        img_W = img.shape[1]\n",
    "        cam_to_img = get_calibration_cam_to_image(calibs[i])\n",
    "\n",
    "        CLASSes = list()\n",
    "        TRUNCATEDs = list()\n",
    "        OCCLUDEDs = list()\n",
    "        BOX2Ds = list()\n",
    "        CROPs_tensor = list()\n",
    "        Alphas = list()\n",
    "        THETAs = list()\n",
    "        depth_GT = list()\n",
    "        extra_labels = get_extra_labels(extra[i])\n",
    "\n",
    "        with open(labels[i]) as f:\n",
    "            lines = f.readlines()\n",
    "\n",
    "            for idx, line in enumerate(lines):\n",
    "                elements = line[:-1].split()\n",
    "                if elements[0] == 'DontCare':\n",
    "                    continue\n",
    "                for j in range(1, len(elements)):\n",
    "                    elements[j] = float(elements[j])\n",
    "\n",
    "                CLASSes.append(elements[0])\n",
    "                TRUNCATEDs.append(elements[1])\n",
    "                OCCLUDEDs.append(elements[2])\n",
    "                top_left = (int(round(elements[4])), int(round(elements[5])))\n",
    "                btm_right = (int(round(elements[6])), int(round(elements[7])))\n",
    "                box = [top_left, btm_right]\n",
    "                BOX2Ds.append(box)\n",
    "                #cv2 is(H,W,3)\n",
    "                crop = img[top_left[1]:btm_right[1]+1, top_left[0]:btm_right[0]+1] \n",
    "                crop = cv2.resize(src = crop, dsize=(224, 224), interpolation=cv2.INTER_CUBIC)\n",
    "                crop = process(crop) # expand to 224x224\n",
    "\n",
    "                # Use 'calc_theta_ray(img_width, box, proj_matrix)', if cam_to_img changes to proj_matrix:\"camera_cal/calib_cam_to_cam.txt\"\n",
    "                theta_ray = extra_labels[idx]['Theta_ray']\n",
    "                THETAs.append(theta_ray)\n",
    "                depth_label = elements[13]\n",
    "                depth_GT.append(depth_label)\n",
    "                #4dim\n",
    "                if is_cond:\n",
    "                    cond = torch.tensor(theta_ray).expand(1, crop.shape[1], crop.shape[2])\n",
    "                    img_cond = torch.concat((crop, cond), dim=0) # 3+1, 224, 224\n",
    "                    CROPs_tensor.append(img_cond)\n",
    "                else:\n",
    "                    CROPs_tensor.append(crop)\n",
    "\n",
    "            # put together as a batch\n",
    "            input_ = torch.stack(CROPs_tensor).to(device)\n",
    "            # model regress part\n",
    "            [RESIDUALs, BIN_CONFs, delta_DIMs, depth_BIAs] = model(input_)\n",
    "\n",
    "            bin_argmax = torch.max(BIN_CONFs, dim=1)[1]\n",
    "            orient_residual = RESIDUALs[torch.arange(len(RESIDUALs)), bin_argmax] \n",
    "            Alphas = angle_per_class*bin_argmax + orient_residual #mapping bin_class and residual to get alpha\n",
    "\n",
    "        #write pred_label.txt \n",
    "        with open(labels[i].replace(label_root, pred_label_root),'w') as new_f:\n",
    "            pred_labels = ''\n",
    "            for class_, truncated, occluded, delta, alpha, theta, box_2d, bias, gt in zip(CLASSes, TRUNCATEDs, OCCLUDEDs, delta_DIMs, Alphas, THETAs, BOX2Ds, depth_BIAs, depth_GT):\n",
    "                delta = delta.cpu().data #torch->numpy\n",
    "                alpha = alpha.cpu().data #torch->numpy\n",
    "                bias = bias.cpu().data\n",
    "                if alpha > np.pi:\n",
    "                    alpha -= (2*np.pi) #for fitting val-range\n",
    "                dim = delta + averages_all.get_item(class_)\n",
    "                rotation_y = alpha + theta\n",
    "                loc, _ = calc_location(dim, cam_to_img, box_2d, alpha, theta)\n",
    "\n",
    "                calc_depth = loc[2]\n",
    "                depth_width = calc_depth_with_alpha_theta(img_W, box_2d, cam_to_img, dim[1], dim[2], alpha, truncated)\n",
    "                regress_depth = depth_width + bias\n",
    "                print(f'Calc:', calc_depth, 'GT', gt)\n",
    "                print(f'Width:{depth_width:.2f}, bias:', bias)\n",
    "\n",
    "                \n",
    "                pred_labels += '{CLASS} {T:.1f} {O} {A:.2f} {left} {top} {right} {btm} {H:.2f} {W:.2f} {L:.2f} {X:.2f} {Y:.2f} {Z:.2f} {Ry:.2f}\\n'.format(\n",
    "                    CLASS=class_, T=truncated, O=occluded, A=alpha, left=box_2d[0][0], top=box_2d[0][1], right=box_2d[1][0], btm=box_2d[1][1],\n",
    "                    H=dim[0], W=dim[1], L=dim[2], X=loc[0], Y=loc[1], Z=loc[2], Ry=rotation_y)\n",
    "            #print(pred_labels)\n",
    "            new_f.writelines(pred_labels)\n",
    "            \n",
    "        if i%500==0:\n",
    "            print(i)\n",
    "    print('Done, take {} min {} sec'.format((time.time()-start)//60, (time.time()-start)%60))# around 10min"
   ]
  },
  {
   "cell_type": "code",
   "execution_count": 9,
   "id": "acf97df8",
   "metadata": {
    "scrolled": true
   },
   "outputs": [
    {
     "name": "stdout",
     "output_type": "stream",
     "text": [
      "0\n",
      "500\n",
      "1000\n",
      "1500\n",
      "2000\n",
      "2500\n",
      "3000\n",
      "3500\n",
      "4000\n",
      "4500\n",
      "5000\n",
      "5500\n",
      "6000\n",
      "6500\n",
      "7000\n",
      "Done, take 8.0 min 36.863417863845825 sec\n"
     ]
    }
   ],
   "source": [
    "weights_path = 'weights_group/cuda0_w03_up10_100.pkl'\n",
    "pred_label_root = 'cuda0_G_100'\n",
    "Run_GT_pred_labels(weights_path, pred_label_root)"
   ]
  },
  {
   "cell_type": "markdown",
   "id": "55fb893e",
   "metadata": {},
   "source": [
    "## 0606 Doing"
   ]
  },
  {
   "cell_type": "code",
   "execution_count": 2,
   "id": "4d2fc1be",
   "metadata": {},
   "outputs": [
    {
     "name": "stdout",
     "output_type": "stream",
     "text": [
      "500\n",
      "1000\n",
      "1500\n",
      "2000\n",
      "2500\n",
      "3000\n",
      "3500\n",
      "4000\n",
      "4500\n",
      "5000\n",
      "5500\n",
      "6000\n",
      "6500\n",
      "7000\n"
     ]
    }
   ],
   "source": [
    "from torchvision.models import vgg\n",
    "from torch_lib.Model_heading_bin import *\n",
    "from torch_lib.ClassAverages import *\n",
    "from torchvision import transforms\n",
    "import os, glob, cv2\n",
    "from library.ron_utils import *\n",
    "import cv2\n",
    "import matplotlib.pyplot as plt\n",
    "\n",
    "cuda = 0\n",
    "pred_label_root = '0606_depth_bias'\n",
    "bin_num=32\n",
    "angle_per_class = 2*np.pi/float(bin_num)\n",
    "\n",
    "is_cond = False\n",
    "#weights_path = 'weights/depth_bin32_group_cond_epoch_100.pkl'\n",
    "#weights_path = 'weights/depth_bin32_group_cond_no_warm_epoch_100.pkl'\n",
    "weights_path = 'weights/depth_bin32_group_epoch_100.pkl'\n",
    "\n",
    "device = torch.device(f'cuda:{cuda}')\n",
    "os.makedirs(pred_label_root, exist_ok=True)\n",
    "my_vgg = vgg.vgg19_bn(pretrained=True)\n",
    "if is_cond:\n",
    "    print(\"< add Condition (4-dim) as input >\")\n",
    "    my_vgg.features[0] = nn.Conv2d(4, 64, (3,3), (1,1), (1,1))\n",
    "\n",
    "model = Model(features=my_vgg.features, bins=bin_num).to(device)\n",
    "\n",
    "#因為train的時候在不同GPU上，eval要map到同個GPU https://www.jianshu.com/p/ec91b3b59f66\n",
    "checkpoint = torch.load(weights_path, map_location=device)\n",
    "model.load_state_dict(checkpoint['model_state_dict'])\n",
    "model.eval()\n",
    "# for img processing\n",
    "normalize = transforms.Normalize(mean=[0.485, 0.456, 0.406], std=[0.229, 0.224, 0.225])\n",
    "process = transforms.Compose([transforms.ToTensor(), normalize])\n",
    "\n",
    "img_root = \"./Kitti/training/image_2\"\n",
    "label_root = \"./Kitti/training/label_2\"\n",
    "calib_root = \"./Kitti/training/calib\"\n",
    "extra_label_root = \"./Kitti/training/extra_label\"\n",
    "ImageSets_root = './Kitti/ImageSets'\n",
    "split = 'trainval'\n",
    "\n",
    "images = glob.glob(os.path.join(img_root, '*.png'), recursive=True)\n",
    "labels = glob.glob(os.path.join(label_root, '*.txt'), recursive=True)\n",
    "calibs = glob.glob(os.path.join(calib_root, '*.txt'), recursive=True)\n",
    "extra = glob.glob(os.path.join(extra_label_root, '*.txt'), recursive=True)\n",
    "\n",
    "split_dir = os.path.join(ImageSets_root, split + '.txt')\n",
    "ids = [int(x.strip()) for x in open(split_dir).readlines()]\n",
    "\n",
    "# dim averages\n",
    "averages_all = ClassAverages()\n",
    "start = time.time()\n",
    "\n",
    "DELTA_ORG = list()\n",
    "DELTA_NEW = list()\n",
    "DELTA_NEW_GT_Alpha = list()\n",
    "DELTA_NEW_GT_W = list()\n",
    "DELTA_NEW_GT_L = list()\n",
    "DELTA_NEW_GT_Dim = list()\n",
    "DELTA_NEW_GT_All = list()\n",
    "delta_ALL = list()\n",
    "for i in ids:\n",
    "    img = cv2.imread(images[i])\n",
    "    img_W = img.shape[1] # H,W,3\n",
    "    cam_to_img = get_calibration_cam_to_image(calibs[i])\n",
    "\n",
    "    CLASSes = list()\n",
    "    TRUNCATEDs = list()\n",
    "    OCCLUDEDs = list()\n",
    "    BOX2Ds = list()\n",
    "    CROPs_tensor = list()\n",
    "    Alphas = list()\n",
    "    THETAs = list()\n",
    "    Depth_GT = list()\n",
    "    Dim_GT = list()\n",
    "    Alpha_GT = list()\n",
    "    extra_labels = get_extra_labels(extra[i])\n",
    "\n",
    "    with open(labels[i]) as f:\n",
    "        lines = f.readlines()\n",
    "\n",
    "    for idx, line in enumerate(lines):\n",
    "        elements = line[:-1].split()\n",
    "        if elements[0] != 'Car':\n",
    "            continue\n",
    "        for j in range(1, len(elements)):\n",
    "            elements[j] = float(elements[j])\n",
    "        \n",
    "        truncate = elements[1] # 0~1\n",
    "        occluded = int(elements[2]) # 0:visible, 1:partly, 2:largely, 3:unknown\n",
    "\n",
    "        if truncate<=0.3 and occluded<=1:\n",
    "\n",
    "            CLASSes.append(elements[0])\n",
    "            TRUNCATEDs.append(elements[1])\n",
    "            OCCLUDEDs.append(elements[2])\n",
    "            top_left = (int(round(elements[4])), int(round(elements[5])))\n",
    "            btm_right = (int(round(elements[6])), int(round(elements[7])))\n",
    "            box_2d = [top_left, btm_right]\n",
    "            BOX2Ds.append(box_2d)\n",
    "            \n",
    "            dim = np.array([elements[8], elements[9], elements[10]], dtype=np.double) # Height, Width, Length\n",
    "            Dim_GT.append(dim)\n",
    "            alpha = elements[3]\n",
    "            Alpha_GT.append(alpha)\n",
    "            #cv2 is(H,W,3)\n",
    "            crop = img[top_left[1]:btm_right[1]+1, top_left[0]:btm_right[0]+1] \n",
    "            crop = cv2.resize(src = crop, dsize=(224, 224), interpolation=cv2.INTER_CUBIC)\n",
    "            crop = process(crop) # expand to 224x224\n",
    "\n",
    "            # Use 'calc_theta_ray(img_width, box, proj_matrix)', if cam_to_img changes to proj_matrix:\"camera_cal/calib_cam_to_cam.txt\"\n",
    "            theta_ray = extra_labels[idx]['Theta_ray']\n",
    "            THETAs.append(theta_ray)\n",
    "            depth_label = elements[13]\n",
    "            Depth_GT.append(depth_label)\n",
    "            #4dim\n",
    "            if is_cond:\n",
    "                #cond = torch.tensor(theta_ray).expand(1, crop.shape[1], crop.shape[2]) theta as cond\n",
    "                boxW_ratio = extra_labels[idx]['Box_W']/224.\n",
    "                cond = torch.tensor(boxW_ratio).expand(1, crop.shape[1], crop.shape[2]) #boxH ratio as cond\n",
    "                img_cond = torch.concat((crop, cond), dim=0) # 3+1, 224, 224\n",
    "                CROPs_tensor.append(img_cond)\n",
    "            else:\n",
    "                CROPs_tensor.append(crop)\n",
    "\n",
    "            # plot box\n",
    "            '''\n",
    "            d2_center = get_box_center(box_2d)\n",
    "            cv2.rectangle(img, box_2d[0], box_2d[1], color=(255,0,0), thickness=2)\n",
    "            cv2.putText(img, f'{idx}', (d2_center[0], d2_center[1]+10), cv2.FONT_HERSHEY_SIMPLEX, 1, (0, 255, 255), 1, cv2.LINE_AA)\n",
    "\n",
    "    img = cv2.cvtColor(img, cv2.COLOR_BGR2RGB)\n",
    "    plt.imshow(img)\n",
    "    plt.show()\n",
    "    '''\n",
    "    if len(CROPs_tensor) == 0:\n",
    "        continue\n",
    "    # put together as a batch\n",
    "    input_ = torch.stack(CROPs_tensor).to(device)\n",
    "    # model regress part\n",
    "    [RESIDUALs, BIN_CONFs, delta_DIMs, depth_BIAS] = model(input_)\n",
    "\n",
    "    bin_argmax = torch.max(BIN_CONFs, dim=1)[1]\n",
    "    orient_residual = RESIDUALs[torch.arange(len(RESIDUALs)), bin_argmax] \n",
    "    Alphas = angle_per_class*bin_argmax + orient_residual #mapping bin_class and residual to get alpha\n",
    "\n",
    "    #write pred_label.txt \n",
    "    #with open(labels[i].replace(label_root, pred_label_root),'w') as new_f:\n",
    "    pred_labels = ''\n",
    "    for class_, truncated, occluded, delta, alpha, theta, box_2d, bias, depth_gt, alpha_gt, dim_gt in zip(CLASSes, TRUNCATEDs, OCCLUDEDs, delta_DIMs, Alphas, THETAs, BOX2Ds, depth_BIAS, Depth_GT, Alpha_GT, Dim_GT):\n",
    "        delta = delta.cpu().data #torch->numpy\n",
    "        alpha = alpha.cpu().data #torch->numpy\n",
    "        bias = bias.cpu().data\n",
    "        if alpha > np.pi:\n",
    "            alpha -= (2*np.pi) #for fitting val-range\n",
    "        dim = delta + averages_all.get_item(class_)\n",
    "        rotation_y = alpha + theta\n",
    "        loc, _ = calc_location(dim, cam_to_img, box_2d, alpha, theta)\n",
    "        \n",
    "        # COMPARE \n",
    "        org_calc_depth = loc[2]\n",
    "        depth_width = calc_depth_with_alpha_theta(img_W, box_2d, cam_to_img, dim[1], dim[2], alpha, truncated)\n",
    "        '''\n",
    "        depth_width_GT_alpha = calc_depth_with_alpha_theta(img_W, box_2d, cam_to_img, dim[1], dim[2], alpha_gt, truncated)\n",
    "        depth_width_GT_w = calc_depth_with_alpha_theta(img_W, box_2d, cam_to_img, dim_gt[1], dim[2], alpha, truncated)\n",
    "        depth_width_GT_l = calc_depth_with_alpha_theta(img_W, box_2d, cam_to_img, dim[1], dim_gt[2], alpha, truncated)\n",
    "        depth_width_GT_dim = calc_depth_with_alpha_theta(img_W, box_2d, cam_to_img, dim_gt[1], dim_gt[2], alpha, truncated)\n",
    "        '''\n",
    "        depth_width_GT_all = calc_depth_with_alpha_theta(img_W, box_2d, cam_to_img, dim_gt[1], dim_gt[2], alpha_gt, truncated)\n",
    "        \n",
    "        delta_ALL.append(depth_width-depth_width_GT_all)\n",
    "        '''\n",
    "        regress_depth = depth_width + float(bias)\n",
    "        regress_depth_GT_alpha = depth_width_GT_alpha + float(bias)\n",
    "        regress_depth_GT_w = depth_width_GT_w + float(bias)\n",
    "        regress_depth_GT_l = depth_width_GT_l + float(bias)\n",
    "        regress_depth_GT_dim = depth_width_GT_dim + float(bias)\n",
    "        regress_depth_GT_all = depth_width_GT_all + float(bias)\n",
    "        #print(f'GT:{gt:.3f} Calc: {org_calc_depth:.3f}, NEW:{regress_depth:.3f}, W:{depth_width:.3f}, bias:{float(bias):.3f}')\n",
    "        DELTA_ORG.append(depth_gt-org_calc_depth)\n",
    "        DELTA_NEW.append(depth_gt-regress_depth)\n",
    "        DELTA_NEW_GT_Alpha.append(depth_gt-regress_depth_GT_alpha)\n",
    "        DELTA_NEW_GT_W.append(depth_gt-regress_depth_GT_w)\n",
    "        DELTA_NEW_GT_L.append(depth_gt-regress_depth_GT_l)\n",
    "        DELTA_NEW_GT_Dim.append(depth_gt-regress_depth_GT_dim)\n",
    "        DELTA_NEW_GT_All.append(depth_gt-regress_depth_GT_all)\n",
    "        pred_labels += '{CLASS} {T:.1f} {O} {A:.2f} {left} {top} {right} {btm} {H:.2f} {W:.2f} {L:.2f} {X:.2f} {Y:.2f} {Z:.2f} {Ry:.2f}\\n'.format(\n",
    "            CLASS=class_, T=truncated, O=occluded, A=alpha, left=box_2d[0][0], top=box_2d[0][1], right=box_2d[1][0], btm=box_2d[1][1],\n",
    "            H=dim[0], W=dim[1], L=dim[2], X=loc[0], Y=loc[1], Z=loc[2], Ry=rotation_y)\n",
    "        '''\n",
    "    #print(pred_labels)\n",
    "        #new_f.writelines(pred_labels)\n",
    "    if i%500==0:\n",
    "        print(i)"
   ]
  },
  {
   "cell_type": "code",
   "execution_count": 349,
   "id": "73cac966",
   "metadata": {},
   "outputs": [
    {
     "name": "stdout",
     "output_type": "stream",
     "text": [
      "500\n",
      "1000\n",
      "1500\n",
      "2000\n",
      "2500\n",
      "3000\n",
      "3500\n",
      "4000\n",
      "4500\n",
      "5000\n",
      "5500\n",
      "6000\n",
      "6500\n",
      "7000\n"
     ]
    }
   ],
   "source": [
    "from torchvision.models import vgg\n",
    "from torch_lib.Model_heading_bin import *\n",
    "from torch_lib.ClassAverages import *\n",
    "from torchvision import transforms\n",
    "import os, glob, cv2\n",
    "from library.ron_utils import *\n",
    "import cv2\n",
    "import matplotlib.pyplot as plt\n",
    "\n",
    "cuda = 0\n",
    "pred_label_root = '0606_depth_bias'\n",
    "bin_num=32\n",
    "angle_per_class = 2*np.pi/float(bin_num)\n",
    "\n",
    "is_cond = False\n",
    "#weights_path = 'weights/depth_bin32_group_cond_epoch_100.pkl'\n",
    "#weights_path = 'weights/depth_bin32_group_cond_no_warm_epoch_100.pkl'\n",
    "weights_path = 'weights/depth_bin32_group_epoch_100.pkl'\n",
    "\n",
    "device = torch.device(f'cuda:{cuda}')\n",
    "os.makedirs(pred_label_root, exist_ok=True)\n",
    "my_vgg = vgg.vgg19_bn(pretrained=True)\n",
    "if is_cond:\n",
    "    print(\"< add Condition (4-dim) as input >\")\n",
    "    my_vgg.features[0] = nn.Conv2d(4, 64, (3,3), (1,1), (1,1))\n",
    "\n",
    "model = Model(features=my_vgg.features, bins=bin_num).to(device)\n",
    "\n",
    "#因為train的時候在不同GPU上，eval要map到同個GPU https://www.jianshu.com/p/ec91b3b59f66\n",
    "checkpoint = torch.load(weights_path, map_location=device)\n",
    "model.load_state_dict(checkpoint['model_state_dict'])\n",
    "model.eval()\n",
    "# for img processing\n",
    "normalize = transforms.Normalize(mean=[0.485, 0.456, 0.406], std=[0.229, 0.224, 0.225])\n",
    "process = transforms.Compose([transforms.ToTensor(), normalize])\n",
    "\n",
    "img_root = \"./Kitti/training/image_2\"\n",
    "label_root = \"./Kitti/training/label_2\"\n",
    "calib_root = \"./Kitti/training/calib\"\n",
    "extra_label_root = \"./Kitti/training/extra_label\"\n",
    "ImageSets_root = './Kitti/ImageSets'\n",
    "split = 'trainval'\n",
    "\n",
    "images = glob.glob(os.path.join(img_root, '*.png'), recursive=True)\n",
    "labels = glob.glob(os.path.join(label_root, '*.txt'), recursive=True)\n",
    "calibs = glob.glob(os.path.join(calib_root, '*.txt'), recursive=True)\n",
    "extra = glob.glob(os.path.join(extra_label_root, '*.txt'), recursive=True)\n",
    "\n",
    "split_dir = os.path.join(ImageSets_root, split + '.txt')\n",
    "ids = [int(x.strip()) for x in open(split_dir).readlines()]\n",
    "\n",
    "# dim averages\n",
    "averages_all = ClassAverages()\n",
    "start = time.time()\n",
    "\n",
    "depth_ORG = list()\n",
    "depth_bias = list()\n",
    "# regressed\n",
    "DIM_REG = list()\n",
    "Alpha_REG = list()\n",
    "\n",
    "# GT labels\n",
    "IMG_W = list()\n",
    "TRUNCATEDs = list()\n",
    "BOX2Ds = list()\n",
    "depth_GT = list()\n",
    "DIM_GT = list()\n",
    "Alpha_GT = list()\n",
    "\n",
    "for i in ids:\n",
    "    img = cv2.imread(images[i])\n",
    "    img_W = img.shape[1] # H,W,3\n",
    "    cam_to_img = get_calibration_cam_to_image(calibs[i])\n",
    "\n",
    "    CROPs_tensor = list()\n",
    "    THETAs = list()\n",
    "    extra_labels = get_extra_labels(extra[i])\n",
    "\n",
    "    with open(labels[i]) as f:\n",
    "        lines = f.readlines()\n",
    "\n",
    "    for idx, line in enumerate(lines):\n",
    "        elements = line[:-1].split()\n",
    "        if elements[0] != 'Car':\n",
    "            continue\n",
    "        for j in range(1, len(elements)):\n",
    "            elements[j] = float(elements[j])\n",
    "        \n",
    "        truncate = elements[1] # 0~1\n",
    "        occluded = int(elements[2]) # 0:visible, 1:partly, 2:largely, 3:unknown\n",
    "\n",
    "        if truncate<=0.3 and occluded<=1:\n",
    "            IMG_W.append(img_W)\n",
    "            TRUNCATEDs.append(elements[1])\n",
    "            top_left = (int(round(elements[4])), int(round(elements[5])))\n",
    "            btm_right = (int(round(elements[6])), int(round(elements[7])))\n",
    "            box_2d = [top_left, btm_right]\n",
    "            BOX2Ds.append(box_2d)\n",
    "            \n",
    "            dim = np.array([elements[8], elements[9], elements[10]], dtype=np.double) # Height, Width, Length\n",
    "            DIM_GT.append(dim.tolist())\n",
    "            alpha = elements[3]\n",
    "            Alpha_GT.append(alpha)\n",
    "            #cv2 is(H,W,3)\n",
    "            crop = img[top_left[1]:btm_right[1]+1, top_left[0]:btm_right[0]+1] \n",
    "            crop = cv2.resize(src = crop, dsize=(224, 224), interpolation=cv2.INTER_CUBIC)\n",
    "            crop = process(crop) # expand to 224x224\n",
    "\n",
    "            # Use 'calc_theta_ray(img_width, box, proj_matrix)', if cam_to_img changes to proj_matrix:\"camera_cal/calib_cam_to_cam.txt\"\n",
    "            theta_ray = extra_labels[idx]['Theta_ray']\n",
    "            THETAs.append(theta_ray)\n",
    "            depth_label = elements[13]\n",
    "            depth_GT.append(depth_label)\n",
    "            #4dim\n",
    "            if is_cond:\n",
    "                #cond = torch.tensor(theta_ray).expand(1, crop.shape[1], crop.shape[2]) theta as cond\n",
    "                boxW_ratio = extra_labels[idx]['Box_W'] / 224.\n",
    "                cond = torch.tensor(boxW_ratio).expand(1, crop.shape[1], crop.shape[2]) #boxH ratio as cond\n",
    "                img_cond = torch.concat((crop, cond), dim=0) # 3+1, 224, 224\n",
    "                CROPs_tensor.append(img_cond)\n",
    "            else:\n",
    "                CROPs_tensor.append(crop)\n",
    "\n",
    "            # plot box\n",
    "            '''\n",
    "            d2_center = get_box_center(box_2d)\n",
    "            cv2.rectangle(img, box_2d[0], box_2d[1], color=(255,0,0), thickness=2)\n",
    "            cv2.putText(img, f'{idx}', (d2_center[0], d2_center[1]+10), cv2.FONT_HERSHEY_SIMPLEX, 1, (0, 255, 255), 1, cv2.LINE_AA)\n",
    "\n",
    "    img = cv2.cvtColor(img, cv2.COLOR_BGR2RGB)\n",
    "    plt.imshow(img)\n",
    "    plt.show()\n",
    "    '''\n",
    "    if len(CROPs_tensor) == 0:\n",
    "        continue\n",
    "    # put together as a batch\n",
    "    input_ = torch.stack(CROPs_tensor).to(device)\n",
    "    # model regress part\n",
    "    [RESIDUALs, BIN_CONFs, delta_DIMs, depth_BIAS] = model(input_)\n",
    "\n",
    "    bin_argmax = torch.max(BIN_CONFs, dim=1)[1]\n",
    "    orient_residual = RESIDUALs[torch.arange(len(RESIDUALs)), bin_argmax] \n",
    "    Alphas = angle_per_class*bin_argmax + orient_residual #mapping bin_class and residual to get alpha\n",
    "\n",
    "    for delta, alpha, theta, bias in zip (delta_DIMs, Alphas, THETAs, depth_BIAS):\n",
    "        delta = delta.cpu().data.numpy() #torch->numpy\n",
    "        alpha = alpha.cpu().data.numpy() #torch->numpy\n",
    "        bias = bias.cpu().item()\n",
    "        if alpha > np.pi:\n",
    "            alpha -= (2*np.pi) #for fitting val-range\n",
    "        dim = delta + averages_all.get_item('Car')\n",
    "        loc, _ = calc_location(dim, cam_to_img, box_2d, alpha, theta)\n",
    "        #\n",
    "        DIM_REG.append(dim.tolist())\n",
    "        Alpha_REG.append(alpha)\n",
    "        \n",
    "        # COMPARE \n",
    "        depth_ORG.append(loc[2])\n",
    "        #depth_calc_REG.append(calc_depth_with_alpha_theta(img_W, box_2d, cam_to_img, dim[1], dim[2], alpha, trun))\n",
    "        #depth_calc_GT.append(calc_depth_with_alpha_theta(img_W, box_2d, cam_to_img, dim_gt[1], dim_gt[2], alpha_gt, trun))\n",
    "        depth_bias.append(bias)\n",
    "        \n",
    "    if i%500==0:\n",
    "        print(i)"
   ]
  },
  {
   "cell_type": "code",
   "execution_count": null,
   "id": "d76d9127",
   "metadata": {},
   "outputs": [],
   "source": [
    "def calc_depth_with_alpha_theta(img_W, box_2d, cam_to_img, obj_W, obj_L, alpha, trun=0.0):\n",
    "    fovx = 2 * np.arctan(img_W / (2 * cam_to_img[0][0]))\n",
    "    box_W = get_box_size(box_2d)[0] / (1-trun+0.01) #assume truncate related to W only\n",
    "    visual_W = abs(obj_L*np.cos(alpha)) + abs(obj_W*np.sin(alpha))\n",
    "    theta_ray = calc_theta_ray(img_W, box_2d, cam_to_img)\n",
    "    visual_W /= abs(np.cos(theta_ray)) #new added !\n",
    "    Wview = (visual_W)*(img_W/box_W)\n",
    "    depth = Wview/2 / np.tan(fovx/2)\n",
    "    return depth"
   ]
  },
  {
   "cell_type": "code",
   "execution_count": 354,
   "id": "45f42ba0",
   "metadata": {},
   "outputs": [],
   "source": [
    "DIM_GT = np.array(DIM_GT)\n",
    "DIM_REG = np.array(DIM_REG)\n",
    "Alpha_REG = np.array(Alpha_REG)\n",
    "depth_bias = np.array(depth_bias)\n",
    "depth_GT = np.array(depth_GT)\n",
    "\n",
    "\n",
    "depth_bias_REG = list()\n",
    "depth_bias_GT = list()\n",
    "depth_bias_GT_dim = list()\n",
    "depth_bias_GT_alpha = list()\n",
    "\n",
    "for bias, cam_to_img, imgW, trun, box_2d, a_reg, dim_reg, a_gt, dim_gt in zip(depth_bias, CAM, IMG_W, TRUNCATEDs, BOX2Ds, Alpha_REG, DIM_REG, Alpha_GT, DIM_GT):\n",
    "    depth_bias_REG.append(bias + calc_depth_with_alpha_theta(imgW, box_2d, cam_to_img, dim_reg[1], dim_reg[2], a_reg, trun))\n",
    "    depth_bias_GT_dim.append(bias + calc_depth_with_alpha_theta(imgW, box_2d, cam_to_img, dim_gt[1], dim_gt[2], a_reg, trun))\n",
    "    depth_bias_GT_alpha.append(bias + calc_depth_with_alpha_theta(imgW, box_2d, cam_to_img, dim_reg[1], dim_reg[2], a_gt, trun))\n",
    "    depth_bias_GT.append(bias + calc_depth_with_alpha_theta(imgW, box_2d, cam_to_img, dim_gt[1], dim_gt[2], a_gt, trun))"
   ]
  },
  {
   "cell_type": "code",
   "execution_count": 356,
   "id": "7637fd4f",
   "metadata": {},
   "outputs": [
    {
     "name": "stdout",
     "output_type": "stream",
     "text": [
      "0.34057819675166795\n",
      "1.930732374583325\n",
      "1.3629656899195657\n",
      "1.4009110227787773\n"
     ]
    }
   ],
   "source": [
    "print(abs(depth_bias_GT - depth_GT).mean())\n",
    "print(abs(depth_bias_REG - depth_GT).mean())\n",
    "print(abs(depth_bias_GT_dim - depth_GT).mean())\n",
    "print(abs(depth_bias_GT_alpha - depth_GT).mean())"
   ]
  },
  {
   "cell_type": "code",
   "execution_count": 410,
   "id": "74c5fabd",
   "metadata": {},
   "outputs": [
    {
     "name": "stdout",
     "output_type": "stream",
     "text": [
      "0.07031175746413798\n",
      "1.9999999997868825\n"
     ]
    },
    {
     "data": {
      "image/png": "[encoded data removed]",
      "text/plain": [
       "<Figure size 640x480 with 1 Axes>"
      ]
     },
     "metadata": {},
     "output_type": "display_data"
    }
   ],
   "source": [
    "radian_delta = (1-np.cos(Alpha_GT - Alpha_REG))\n",
    "plt.hist(radian_delta)\n",
    "plt.plot()\n",
    "print(radian_delta.mean())\n",
    "print(radian_delta.max())"
   ]
  },
  {
   "cell_type": "code",
   "execution_count": 411,
   "id": "56203eb3",
   "metadata": {},
   "outputs": [
    {
     "name": "stdout",
     "output_type": "stream",
     "text": [
      "-1.51\n",
      "1.631572\n"
     ]
    }
   ],
   "source": [
    "max_idx = np.where(radian_delta == radian_delta.max())[0][0]\n",
    "print(Alpha_GT[max_idx])\n",
    "print(Alpha_REG[max_idx])"
   ]
  },
  {
   "cell_type": "code",
   "execution_count": 418,
   "id": "ba965daa",
   "metadata": {},
   "outputs": [
    {
     "name": "stdout",
     "output_type": "stream",
     "text": [
      "-1.51\n",
      "40.99\n",
      "GT alpha\n",
      "40.73253649549734\n",
      "REG alpha\n",
      "46.941765105712726\n"
     ]
    }
   ],
   "source": [
    "print(Alpha_GT[max_idx])\n",
    "print(depth_GT[max_idx])\n",
    "print('GT alpha')\n",
    "print(calc_depth_with_alpha_theta(IMG_W[max_idx], BOX2Ds[max_idx], CAM[max_idx], DIM_GT[max_idx][1], DIM_GT[max_idx][2], Alpha_GT[max_idx], TRUNCATEDs[max_idx]))\n",
    "print('REG alpha')\n",
    "print(calc_depth_with_alpha_theta(IMG_W[max_idx], BOX2Ds[max_idx], CAM[max_idx], DIM_GT[max_idx][1], DIM_GT[max_idx][2], Alpha_GT[max_idx]+0.07, TRUNCATEDs[max_idx]))"
   ]
  },
  {
   "cell_type": "code",
   "execution_count": 405,
   "id": "e68ef658",
   "metadata": {},
   "outputs": [
    {
     "name": "stdout",
     "output_type": "stream",
     "text": [
      "1.56 4.08\n"
     ]
    }
   ],
   "source": [
    "print(dim_gt[1], dim_gt[2])"
   ]
  },
  {
   "cell_type": "code",
   "execution_count": 69,
   "id": "7a642e17",
   "metadata": {},
   "outputs": [
    {
     "name": "stdout",
     "output_type": "stream",
     "text": [
      "[59.45014993 34.07181707 11.73868168 38.40881382 51.46045647 31.90104884\n",
      " 20.11304859 39.18915677 24.23409767 47.90959162 61.61231115  7.71389245\n",
      " 14.39797917 33.4362789  19.78650277 24.06628866 69.6762475  11.6145346\n",
      " 16.1488987  23.95815037]\n",
      "[57.07036805 27.91338194 11.90904911 37.95768479 57.64307585 23.89386906\n",
      " 22.30641019 35.55363494 23.83529919 51.76439445 61.52170301  7.61619586\n",
      " 12.86343196 27.66182235 19.13104261 21.29364123 74.26851543 11.17236168\n",
      " 16.18445746 23.09508821]\n"
     ]
    }
   ],
   "source": [
    "print(depth_W_GT[:20])\n",
    "print(depth_W[:20])"
   ]
  },
  {
   "cell_type": "code",
   "execution_count": 95,
   "id": "8d2fc5aa",
   "metadata": {},
   "outputs": [],
   "source": [
    "large_idx = np.array([1,4,5,7,9,12,13,15,16])"
   ]
  },
  {
   "cell_type": "code",
   "execution_count": 402,
   "id": "8779ca63",
   "metadata": {},
   "outputs": [
    {
     "ename": "TypeError",
     "evalue": "only integer scalar arrays can be converted to a scalar index",
     "output_type": "error",
     "traceback": [
      "\u001b[1;31m---------------------------------------------------------------------------\u001b[0m",
      "\u001b[1;31mTypeError\u001b[0m                                 Traceback (most recent call last)",
      "Cell \u001b[1;32mIn [402], line 1\u001b[0m\n\u001b[1;32m----> 1\u001b[0m \u001b[38;5;28mprint\u001b[39m(\u001b[43mAlpha_GT\u001b[49m\u001b[43m[\u001b[49m\u001b[43mlarge_idx\u001b[49m\u001b[43m]\u001b[49m)\n\u001b[0;32m      2\u001b[0m \u001b[38;5;28mprint\u001b[39m(Alpha_REG[large_idx])\n\u001b[0;32m      3\u001b[0m \u001b[38;5;28mprint\u001b[39m((Alpha_GT[large_idx] \u001b[38;5;241m-\u001b[39m Alpha_REG[large_idx])\u001b[38;5;241m*\u001b[39m\u001b[38;5;241m180\u001b[39m\u001b[38;5;241m/\u001b[39mnp\u001b[38;5;241m.\u001b[39mpi)\n",
      "\u001b[1;31mTypeError\u001b[0m: only integer scalar arrays can be converted to a scalar index"
     ]
    }
   ],
   "source": [
    "print(Alpha_GT[large_idx])\n",
    "print(Alpha_REG[large_idx])\n",
    "print((Alpha_GT[large_idx] - Alpha_REG[large_idx])*180/np.pi)"
   ]
  },
  {
   "cell_type": "code",
   "execution_count": 112,
   "id": "be213bd7",
   "metadata": {},
   "outputs": [
    {
     "name": "stdout",
     "output_type": "stream",
     "text": [
      "[[-0.11266037 -0.04507118  0.09808223]\n",
      " [-0.10013493  0.13550494 -0.99848109]\n",
      " [ 0.14108546  0.02386729  0.12686823]\n",
      " [ 0.14878839  0.04871505  0.28087215]\n",
      " [-0.09541136 -0.08635528 -0.044276  ]\n",
      " [-0.04600539  0.04078437  0.21999673]\n",
      " [ 0.10170231  0.01504478 -0.26026581]\n",
      " [ 0.1378584   0.07999014  0.12673943]\n",
      " [-0.0713496  -0.10199367 -0.57571523]]\n"
     ]
    }
   ],
   "source": [
    "print(Dim_GT[large_idx] - Dim_REG[large_idx])"
   ]
  },
  {
   "cell_type": "code",
   "execution_count": 97,
   "id": "3e36bfd8",
   "metadata": {},
   "outputs": [
    {
     "name": "stdout",
     "output_type": "stream",
     "text": [
      "[[1.41 1.58 4.36]\n",
      " [1.38 1.8  3.41]\n",
      " [1.67 1.64 4.32]\n",
      " [1.68 1.67 4.29]\n",
      " [1.4  1.51 3.7 ]\n",
      " [1.47 1.6  3.66]\n",
      " [1.7  1.63 4.08]\n",
      " [1.61 1.66 3.2 ]\n",
      " [1.41 1.53 3.37]]\n",
      "[[1.52266037 1.62507118 4.26191777]\n",
      " [1.48013493 1.66449506 4.40848109]\n",
      " [1.52891454 1.61613271 4.19313177]\n",
      " [1.53121161 1.62128495 4.00912785]\n",
      " [1.49541136 1.59635528 3.744276  ]\n",
      " [1.51600539 1.55921563 3.44000327]\n",
      " [1.59829769 1.61495522 4.34026581]\n",
      " [1.4721416  1.58000986 3.07326057]\n",
      " [1.4813496  1.63199367 3.94571523]]\n"
     ]
    }
   ],
   "source": [
    "print(Dim_GT[large_idx])\n",
    "print(Dim_REG[large_idx])"
   ]
  },
  {
   "cell_type": "code",
   "execution_count": 165,
   "id": "23b2641c",
   "metadata": {},
   "outputs": [
    {
     "name": "stdout",
     "output_type": "stream",
     "text": [
      "0.008114653639495373\n",
      "0.3417843282222748\n",
      "0.012190095148980618\n",
      "0.03446679934859276\n",
      "0.006173649337142706\n",
      "0.017392834648489952\n",
      "0.026102671399712563\n",
      "0.013822086155414581\n",
      "0.11564719676971436\n"
     ]
    }
   ],
   "source": [
    "import torch.nn.functional as F\n",
    "import torch\n",
    "for idx in large_idx:\n",
    "    print(F.mse_loss(torch.Tensor(Dim_GT[idx]), torch.Tensor(Dim_REG[idx])).item())"
   ]
  },
  {
   "cell_type": "code",
   "execution_count": 166,
   "id": "3832f432",
   "metadata": {},
   "outputs": [
    {
     "name": "stdout",
     "output_type": "stream",
     "text": [
      "0.08527135848999023\n",
      "0.4113736152648926\n",
      "0.09727362543344498\n",
      "0.15945856273174286\n",
      "0.07534758001565933\n",
      "0.1022622212767601\n",
      "0.12567098438739777\n",
      "0.11486268043518066\n",
      "0.24968619644641876\n"
     ]
    }
   ],
   "source": [
    "for idx in large_idx:\n",
    "    print(F.l1_loss(torch.Tensor(Dim_GT[idx]), torch.Tensor(Dim_REG[idx])).item())"
   ]
  },
  {
   "cell_type": "code",
   "execution_count": 256,
   "id": "787ac756",
   "metadata": {},
   "outputs": [
    {
     "name": "stdout",
     "output_type": "stream",
     "text": [
      "tensor(0.1859)\n",
      "tensor(0.1579)\n"
     ]
    }
   ],
   "source": [
    "def L1_loss_alpha(input, target, alpha, device='cuda:0'):\n",
    "    weights = [torch.ones(input.shape[0]).to(device), 1+torch.sin(alpha)**2, 1+torch.cos(alpha)**2]\n",
    "    weights = torch.stack(weights, dim=1).to(device)\n",
    "    loss = abs(input-target)\n",
    "    loss *= weights\n",
    "    return torch.mean(loss)\n",
    "\n",
    "print(L1_loss_alpha(torch.Tensor(Dim_GT[large_idx]), torch.Tensor(Dim_REG[large_idx]), torch.Tensor(Alpha_GT[large_idx])))\n",
    "print(F.l1_loss(torch.Tensor(Dim_GT[large_idx]), torch.Tensor(Dim_REG[large_idx]), reduction='mean'))"
   ]
  },
  {
   "cell_type": "code",
   "execution_count": 252,
   "id": "3c4b125b",
   "metadata": {},
   "outputs": [
    {
     "name": "stdout",
     "output_type": "stream",
     "text": [
      "tensor([[0.1127, 0.0451, 0.0981],\n",
      "        [0.1001, 0.1355, 0.9985],\n",
      "        [0.1411, 0.0239, 0.1269],\n",
      "        [0.1488, 0.0487, 0.2809],\n",
      "        [0.0954, 0.0864, 0.0443],\n",
      "        [0.0460, 0.0408, 0.2200],\n",
      "        [0.1017, 0.0150, 0.2603],\n",
      "        [0.1379, 0.0800, 0.1267],\n",
      "        [0.0713, 0.1020, 0.5757]])\n",
      "W\n",
      "tensor([[1.0000, 1.9902, 1.0098],\n",
      "        [1.0000, 1.9074, 1.0926],\n",
      "        [1.0000, 1.8754, 1.1246],\n",
      "        [1.0000, 1.7874, 1.2126],\n",
      "        [1.0000, 1.9807, 1.0193],\n",
      "        [1.0000, 1.9431, 1.0569],\n",
      "        [1.0000, 1.9716, 1.0284],\n",
      "        [1.0000, 1.9950, 1.0050],\n",
      "        [1.0000, 1.9569, 1.0431]])\n",
      "CALC\n",
      "tensor([[0.1127, 0.0897, 0.0990],\n",
      "        [0.1001, 0.2585, 1.0909],\n",
      "        [0.1411, 0.0448, 0.1427],\n",
      "        [0.1488, 0.0871, 0.3406],\n",
      "        [0.0954, 0.1710, 0.0451],\n",
      "        [0.0460, 0.0792, 0.2325],\n",
      "        [0.1017, 0.0297, 0.2676],\n",
      "        [0.1379, 0.1596, 0.1274],\n",
      "        [0.0713, 0.1996, 0.6005]])\n",
      "tensor(0.1859)\n"
     ]
    }
   ],
   "source": [
    "input_ = torch.Tensor(Dim_GT[large_idx])\n",
    "target = torch.Tensor(Dim_REG[large_idx])\n",
    "alphas_ = torch.Tensor(Alpha_GT[large_idx])\n",
    "weights = [torch.ones(input_.shape[0]), 1+torch.sin(alphas_)**2, 1+torch.cos(alphas_)**2]\n",
    "weights = torch.stack(weights, dim=1)\n",
    "delta = abs(input_-target)\n",
    "print(delta)\n",
    "print('W')\n",
    "print(weights)\n",
    "print('CALC')\n",
    "print(delta*weights)\n",
    "print(torch.mean(delta*weights))"
   ]
  },
  {
   "cell_type": "code",
   "execution_count": 141,
   "id": "900a5cb7",
   "metadata": {},
   "outputs": [
    {
     "name": "stdout",
     "output_type": "stream",
     "text": [
      "tensor(36.2888)\n",
      "tensor(38.6523)\n",
      "tensor(51.9718)\n"
     ]
    }
   ],
   "source": [
    "print(calc_depth_with_alpha_theta(img_W, box_2d, cam_to_img, Dim_GT[4][1], Dim_GT[4][2], alpha, 0))\n",
    "print(calc_depth_with_alpha_theta(img_W, box_2d, cam_to_img, Dim_GT[4][1], Dim_GT[4][2]+1, alpha, 0))\n",
    "print(calc_depth_with_alpha_theta(img_W, box_2d, cam_to_img, Dim_GT[4][1]+1, Dim_GT[4][2], alpha, 0))"
   ]
  },
  {
   "cell_type": "markdown",
   "id": "3c3b1c9c",
   "metadata": {},
   "source": [
    "### Cond pkl (depth_bin32_group_cond_epoch_100)"
   ]
  },
  {
   "cell_type": "code",
   "execution_count": 40,
   "id": "e5a542d9",
   "metadata": {},
   "outputs": [
    {
     "name": "stdout",
     "output_type": "stream",
     "text": [
      "2.9433497171688714\n",
      "3.0952088386106587\n",
      "40570\n"
     ]
    }
   ],
   "source": [
    "# all objects\n",
    "DELTA_ORG = np.array(DELTA_ORG)\n",
    "DELTA_NEW = np.array(DELTA_NEW)\n",
    "\n",
    "print(abs(DELTA_ORG).mean())\n",
    "print(abs(DELTA_NEW).mean())\n",
    "print(len(DELTA_ORG))"
   ]
  },
  {
   "cell_type": "code",
   "execution_count": 49,
   "id": "d038e14b",
   "metadata": {},
   "outputs": [
    {
     "name": "stdout",
     "output_type": "stream",
     "text": [
      "2.428124641751901\n",
      "3.143497436865388\n",
      "27237\n"
     ]
    }
   ],
   "source": [
    "# all objects truncate<=0.3, occuluded<=1\n",
    "DELTA_ORG = np.array(DELTA_ORG)\n",
    "DELTA_NEW = np.array(DELTA_NEW)\n",
    "\n",
    "print(abs(DELTA_ORG).mean())\n",
    "print(abs(DELTA_NEW).mean())\n",
    "print(len(DELTA_ORG))"
   ]
  },
  {
   "cell_type": "code",
   "execution_count": 52,
   "id": "62f50a32",
   "metadata": {},
   "outputs": [
    {
     "name": "stdout",
     "output_type": "stream",
     "text": [
      "2.1461617629105847\n",
      "2.2121288069672596\n",
      "19250\n"
     ]
    }
   ],
   "source": [
    "# Cars truncate<=0.3, occuluded<=1\n",
    "DELTA_ORG = np.array(DELTA_ORG)\n",
    "DELTA_NEW = np.array(DELTA_NEW)\n",
    "\n",
    "print(abs(DELTA_ORG).mean())\n",
    "print(abs(DELTA_NEW).mean())\n",
    "print(len(DELTA_ORG))"
   ]
  },
  {
   "cell_type": "markdown",
   "id": "0d106164",
   "metadata": {},
   "source": [
    "### No cond pkl (depth_bin32_group_epoch_100) 沒有cond的效果目前比較好"
   ]
  },
  {
   "cell_type": "code",
   "execution_count": 54,
   "id": "0f88fab0",
   "metadata": {},
   "outputs": [
    {
     "name": "stdout",
     "output_type": "stream",
     "text": [
      "1.9208071008763112\n",
      "1.9307324017285972\n",
      "19250\n"
     ]
    }
   ],
   "source": [
    "# Cars truncate<=0.3, occuluded<=1\n",
    "DELTA_ORG = np.array(DELTA_ORG)\n",
    "DELTA_NEW = np.array(DELTA_NEW)\n",
    "\n",
    "print(abs(DELTA_ORG).mean())\n",
    "print(abs(DELTA_NEW).mean())\n",
    "print(len(DELTA_ORG))"
   ]
  },
  {
   "cell_type": "code",
   "execution_count": 67,
   "id": "3d74448a",
   "metadata": {},
   "outputs": [
    {
     "name": "stdout",
     "output_type": "stream",
     "text": [
      "org calc: 1.921\n",
      "regress: 1.931\n",
      "GT alpha: 1.401\n",
      "GT W: 1.575\n",
      "GT L: 1.692\n",
      "GT dim: 1.363\n",
      "GT all: 0.341\n",
      "19250\n"
     ]
    }
   ],
   "source": [
    "# Cars truncate<=0.3, occuluded<=1\n",
    "DELTA_ORG = np.array(DELTA_ORG)\n",
    "DELTA_NEW = np.array(DELTA_NEW)\n",
    "DELTA_NEW_GT_Alpha = np.array(DELTA_NEW_GT_Alpha)\n",
    "DELTA_NEW_GT_W = np.array(DELTA_NEW_GT_W)\n",
    "DELTA_NEW_GT_L = np.array(DELTA_NEW_GT_L)\n",
    "DELTA_NEW_GT_Dim = np.array(DELTA_NEW_GT_Dim)\n",
    "DELTA_NEW_GT_All = np.array(DELTA_NEW_GT_All)\n",
    "\n",
    "print(f'org calc: {abs(DELTA_ORG).mean():.3f}')\n",
    "print(f'regress: {abs(DELTA_NEW).mean():.3f}') # 全部都用regressed value\n",
    "print(f'GT alpha: {abs(DELTA_NEW_GT_Alpha).mean():.3f}') # GT alpha\n",
    "print(f'GT W: {abs(DELTA_NEW_GT_W).mean():.3f}') # GT dim W\n",
    "print(f'GT L: {abs(DELTA_NEW_GT_L).mean():.3f}') # GT dim L\n",
    "print(f'GT dim: {abs(DELTA_NEW_GT_Dim).mean():.3f}') # GT W, L\n",
    "print(f'GT all: {abs(DELTA_NEW_GT_All).mean():.3f}') #如果是用計算的dim, alpha 會GT會精準很多 (受到很多其他影響)\n",
    "print(len(DELTA_ORG))"
   ]
  },
  {
   "cell_type": "markdown",
   "id": "4d59f718",
   "metadata": {},
   "source": [
    "# 0613 Dimension loss comparation"
   ]
  },
  {
   "cell_type": "code",
   "execution_count": 309,
   "id": "4dbb8ed0",
   "metadata": {},
   "outputs": [
    {
     "name": "stdout",
     "output_type": "stream",
     "text": [
      "500\n",
      "1000\n",
      "1500\n",
      "2000\n",
      "2500\n",
      "3000\n",
      "3500\n",
      "4000\n",
      "4500\n",
      "5000\n",
      "5500\n",
      "6000\n",
      "6500\n",
      "7000\n"
     ]
    }
   ],
   "source": [
    "from torchvision.models import vgg\n",
    "from torch_lib.Model_heading_bin_no_bias import *\n",
    "from torch_lib.ClassAverages import *\n",
    "from torchvision import transforms\n",
    "import os, glob, cv2\n",
    "from library.ron_utils import *\n",
    "import matplotlib.pyplot as plt\n",
    "\n",
    "cuda = 0\n",
    "#pred_label_root = '0606_depth_bias'\n",
    "bin_num=32\n",
    "angle_per_class = 2*np.pi/float(bin_num)\n",
    "\n",
    "W_MSE = 'weights/mse_loss_epoch_20.pkl'\n",
    "W_L1 = 'weights/L1_loss_epoch_20.pkl'\n",
    "W_AL1 = 'weights/Alpha_L1_loss_epoch_20.pkl'\n",
    "device = 'cuda:0'\n",
    "#os.makedirs(pred_label_root, exist_ok=True)\n",
    "my_vgg = vgg.vgg19_bn(pretrained=True)\n",
    "model_MSE = Model(features=my_vgg.features, bins=bin_num).to(device)\n",
    "#因為train的時候在不同GPU上，eval要map到同個GPU https://www.jianshu.com/p/ec91b3b59f66\n",
    "model_MSE.load_state_dict(torch.load(W_MSE, map_location=device)['model_state_dict'])\n",
    "model_MSE.eval()\n",
    "\n",
    "model_L1 = Model(features=my_vgg.features, bins=bin_num).to(device)\n",
    "model_L1.load_state_dict(torch.load(W_L1, map_location=device)['model_state_dict'])\n",
    "model_L1.eval()\n",
    "\n",
    "model_AL1 = Model(features=my_vgg.features, bins=bin_num).to(device)\n",
    "model_AL1.load_state_dict(torch.load(W_AL1, map_location=device)['model_state_dict'])\n",
    "model_AL1.eval()\n",
    "# for img processing\n",
    "normalize = transforms.Normalize(mean=[0.485, 0.456, 0.406], std=[0.229, 0.224, 0.225])\n",
    "process = transforms.Compose([transforms.ToTensor(), normalize])\n",
    "\n",
    "img_root = \"./Kitti/training/image_2\"\n",
    "label_root = \"./Kitti/training/label_2\"\n",
    "calib_root = \"./Kitti/training/calib\"\n",
    "extra_label_root = \"./Kitti/training/extra_label\"\n",
    "images = glob.glob(os.path.join(img_root, '*.png'), recursive=True)\n",
    "labels = glob.glob(os.path.join(label_root, '*.txt'), recursive=True)\n",
    "calibs = glob.glob(os.path.join(calib_root, '*.txt'), recursive=True)\n",
    "extra = glob.glob(os.path.join(extra_label_root, '*.txt'), recursive=True)\n",
    "\n",
    "ImageSets_root = './Kitti/ImageSets'\n",
    "split = 'trainval'\n",
    "split_dir = os.path.join(ImageSets_root, split + '.txt')\n",
    "ids = [int(x.strip()) for x in open(split_dir).readlines()]\n",
    "\n",
    "# dim averages\n",
    "averages_all = ClassAverages()\n",
    "\n",
    "depth_GT = list()\n",
    "imgW_GT = list()\n",
    "Trun_GT = list()\n",
    "BOX2D_GT = list()\n",
    "Alpha_GT = list()\n",
    "DIM_GT = list()  \n",
    "DIM_REG_MSE = list()\n",
    "DIM_REG_L1 = list()\n",
    "DIM_REG_AL1 = list()\n",
    "CAM = list()\n",
    "for i in ids:\n",
    "    img = cv2.imread(images[i])\n",
    "    imgW = img.shape[1] # H,W,3\n",
    "    cam_to_img = get_calibration_cam_to_image(calibs[i])\n",
    "    extra_labels = get_extra_labels(extra[i])\n",
    "    CROPs_tensor = list()\n",
    "    with open(labels[i]) as f:\n",
    "        lines = f.readlines()\n",
    "\n",
    "    for idx, line in enumerate(lines):\n",
    "        elements = line[:-1].split()\n",
    "        \n",
    "        for j in range(1, len(elements)):\n",
    "            elements[j] = float(elements[j])\n",
    "        \n",
    "        truncate = elements[1] # 0~1\n",
    "        occluded = int(elements[2]) # 0:visible, 1:partly, 2:largely, 3:unknown\n",
    "        \n",
    "        if elements[0] != 'Car' or truncate>0.3 or occluded>1:\n",
    "            continue\n",
    "        CAM.append(cam_to_img)\n",
    "        imgW_GT.append(imgW)\n",
    "        Trun_GT.append(truncate)\n",
    "        top_left = (int(round(elements[4])), int(round(elements[5])))\n",
    "        btm_right = (int(round(elements[6])), int(round(elements[7])))\n",
    "        box_2d = [top_left, btm_right]\n",
    "        BOX2D_GT.append(box_2d)\n",
    "\n",
    "        dim = np.array([elements[8], elements[9], elements[10]], dtype=np.double) # Height, Width, Length\n",
    "        DIM_GT.append(dim)\n",
    "        alpha = elements[3]\n",
    "        Alpha_GT.append(alpha)\n",
    "        #cv2 is(H,W,3)\n",
    "        crop = img[top_left[1]:btm_right[1]+1, top_left[0]:btm_right[0]+1] \n",
    "        crop = cv2.resize(src = crop, dsize=(224, 224), interpolation=cv2.INTER_CUBIC)\n",
    "        crop = process(crop) # expand to 224x224\n",
    "        theta_ray = extra_labels[idx]['Theta_ray']\n",
    "        THETAs.append(theta_ray)\n",
    "        depth_label = elements[13]\n",
    "        depth_GT.append(depth_label)\n",
    "        CROPs_tensor.append(crop)\n",
    "        '''\n",
    "        d2_center = get_box_center(box_2d)\n",
    "        cv2.rectangle(img, box_2d[0], box_2d[1], color=(255,0,0), thickness=2)\n",
    "        cv2.putText(img, f'{idx}', (d2_center[0], d2_center[1]+10), cv2.FONT_HERSHEY_SIMPLEX, 1, (0, 255, 255), 1, cv2.LINE_AA)\n",
    "\n",
    "    img = cv2.cvtColor(img, cv2.COLOR_BGR2RGB)\n",
    "    plt.imshow(img)\n",
    "    plt.show()\n",
    "    \n",
    "    '''\n",
    "    if len(CROPs_tensor) == 0:\n",
    "        continue\n",
    "    # put together as a batch\n",
    "    input_ = torch.stack(CROPs_tensor).to(device)\n",
    "    \n",
    "    # MSE model regress\n",
    "    [RESIDUALs, BIN_CONFs, delta_MSE] = model_MSE(input_)\n",
    "    [RESIDUALs, BIN_CONFs, delta_L1] = model_L1(input_)\n",
    "    [RESIDUALs, BIN_CONFs, delta_AL1] = model_AL1(input_)\n",
    "\n",
    "    for mse, l1, al1 in zip(delta_MSE, delta_L1, delta_AL1):\n",
    "        mse = mse.cpu().data.numpy() #torch->numpy\n",
    "        l1 = l1.cpu().data.numpy() #torch->numpy\n",
    "        al1 = al1.cpu().data.numpy() #torch->numpy\n",
    "        DIM_REG_MSE.append(mse + averages_all.get_item('Car'))\n",
    "        DIM_REG_L1.append(l1 + averages_all.get_item('Car'))\n",
    "        DIM_REG_AL1.append(al1 + averages_all.get_item('Car'))\n",
    "        #calc_depth_with_alpha_theta(img_W, box_2d, cam_to_img, dim[1], dim[2], alpha, trun)\n",
    "    \n",
    "    if i%500==0:\n",
    "        print(i)"
   ]
  },
  {
   "cell_type": "code",
   "execution_count": 310,
   "id": "ae3078e6",
   "metadata": {},
   "outputs": [],
   "source": [
    "DIM_GT = np.array(DIM_GT)\n",
    "DIM_REG_MSE = np.array(DIM_REG_MSE)\n",
    "DIM_REG_L1 = np.array(DIM_REG_L1)\n",
    "DIM_REG_AL1 = np.array(DIM_REG_AL1)\n",
    "depth_GT = np.array(depth_GT)"
   ]
  },
  {
   "cell_type": "code",
   "execution_count": 311,
   "id": "d7f7f7e9",
   "metadata": {},
   "outputs": [],
   "source": [
    "calc_depth_GT = list()\n",
    "calc_depth_MSE = list()\n",
    "calc_depth_L1 = list()\n",
    "calc_depth_AL1 = list()\n",
    "for cam_to_img, imgW, trun, box_2d, alpha, dim_gt, dim_mse, dim_l1, dim_al1 in zip(CAM, imgW_GT, Trun_GT, BOX2D_GT, Alpha_GT, DIM_GT, DIM_REG_MSE, DIM_REG_L1, DIM_REG_AL1):\n",
    "    calc_depth_GT.append(calc_depth_with_alpha_theta(imgW, box_2d, cam_to_img, dim_gt[1], dim_gt[2], alpha, trun))\n",
    "    calc_depth_MSE.append(calc_depth_with_alpha_theta(imgW, box_2d, cam_to_img, dim_mse[1], dim_mse[2], alpha, trun))\n",
    "    calc_depth_L1.append(calc_depth_with_alpha_theta(imgW, box_2d, cam_to_img, dim_l1[1], dim_l1[2], alpha, trun))\n",
    "    calc_depth_AL1.append(calc_depth_with_alpha_theta(imgW, box_2d, cam_to_img, dim_al1[1], dim_al1[2], alpha, trun))\n",
    "calc_depth_GT = np.array(calc_depth_GT)\n",
    "calc_depth_MSE = np.array(calc_depth_MSE)\n",
    "calc_depth_L1 = np.array(calc_depth_L1)\n",
    "calc_depth_AL1 = np.array(calc_depth_AL1)"
   ]
  },
  {
   "cell_type": "code",
   "execution_count": 330,
   "id": "65867644",
   "metadata": {},
   "outputs": [],
   "source": [
    "def box_depth_error_calculation(depth_labels, depth_Calcs, out_range=10):\n",
    "    class_GT = np.copy(depth_labels) #28742 car\n",
    "    print(f'num of Car:', class_GT.shape[0])\n",
    "    class_cal = np.copy(depth_Calcs)\n",
    "    for depth in [0, 10, 20, 30, 40, 50]:\n",
    "        class_GT_depth = class_GT[np.logical_and(class_GT >= depth, class_GT < depth+10.)]\n",
    "        print(f'\\tnum of depth {depth}-{depth+10}:', class_GT_depth.shape[0], end=' ')\n",
    "        class_cal_depth = class_cal[np.logical_and(class_GT >= depth, class_GT < depth+10.)]\n",
    "        cal_delta = abs(class_GT_depth - class_cal_depth)\n",
    "        #cal_delta, _, out_indexes = filter_out_of_range(cal_delta, out_range) # remove prediction out of 10\n",
    "        print(f'\\tabs_delta mean:{cal_delta.mean():.3f}m, Out of {out_range}m: {cal_delta[cal_delta>=out_range].shape[0]}')\n",
    "\n",
    "    # after 60 m\n",
    "    class_GT_depth = class_GT[class_GT >= 60.]\n",
    "    print(f'\\tnum of depth {depth+10}+:', class_GT_depth.shape[0], end='   ')\n",
    "    class_cal_depth = class_cal[class_GT >= 60.]\n",
    "    cal_delta = abs(class_GT_depth - class_cal_depth)\n",
    "    #cal_delta, _, out_indexes = filter_out_of_range(cal_delta, out_range) # remove prediction out of 10\n",
    "    print(f'\\tabs_delta mean:{cal_delta.mean():.3f}m, Out of {out_range}m: {cal_delta[cal_delta>=out_range].shape[0]}')\n",
    "    \n",
    "    total = abs(class_GT-class_cal)\n",
    "    print(f'[Total] mean:{total.mean():.3f}, std:{total.std():.3f}')"
   ]
  },
  {
   "cell_type": "code",
   "execution_count": 335,
   "id": "e94369be",
   "metadata": {},
   "outputs": [
    {
     "name": "stdout",
     "output_type": "stream",
     "text": [
      "num of Car: 19250\n",
      "\tnum of depth 0-10: 1321 \tabs_delta mean:0.664m, Out of 5m: 0\n",
      "\tnum of depth 10-20: 4479 \tabs_delta mean:0.254m, Out of 5m: 0\n",
      "\tnum of depth 20-30: 4357 \tabs_delta mean:0.375m, Out of 5m: 0\n",
      "\tnum of depth 30-40: 3600 \tabs_delta mean:0.442m, Out of 5m: 0\n",
      "\tnum of depth 40-50: 2702 \tabs_delta mean:0.575m, Out of 5m: 0\n",
      "\tnum of depth 50-60: 1619 \tabs_delta mean:0.737m, Out of 5m: 0\n",
      "\tnum of depth 60+: 1172   \tabs_delta mean:1.067m, Out of 5m: 0\n",
      "[Total] mean:0.480, std:0.522\n"
     ]
    }
   ],
   "source": [
    "box_depth_error_calculation(depth_GT, calc_depth_GT, out_range=5)"
   ]
  },
  {
   "cell_type": "code",
   "execution_count": 336,
   "id": "ff728d88",
   "metadata": {},
   "outputs": [
    {
     "name": "stdout",
     "output_type": "stream",
     "text": [
      "num of Car: 19250\n",
      "\tnum of depth 0-10: 1321 \tabs_delta mean:0.793m, Out of 5m: 0\n",
      "\tnum of depth 10-20: 4479 \tabs_delta mean:0.733m, Out of 5m: 3\n",
      "\tnum of depth 20-30: 4357 \tabs_delta mean:1.233m, Out of 5m: 23\n",
      "\tnum of depth 30-40: 3600 \tabs_delta mean:1.624m, Out of 5m: 100\n",
      "\tnum of depth 40-50: 2702 \tabs_delta mean:2.130m, Out of 5m: 171\n",
      "\tnum of depth 50-60: 1619 \tabs_delta mean:2.880m, Out of 5m: 264\n",
      "\tnum of depth 60+: 1172   \tabs_delta mean:3.700m, Out of 5m: 321\n",
      "[Total] mean:1.574, std:1.728\n"
     ]
    }
   ],
   "source": [
    "box_depth_error_calculation(depth_GT, calc_depth_MSE, out_range=5)"
   ]
  },
  {
   "cell_type": "code",
   "execution_count": 337,
   "id": "9bdcebc0",
   "metadata": {},
   "outputs": [
    {
     "name": "stdout",
     "output_type": "stream",
     "text": [
      "num of Car: 19250\n",
      "\tnum of depth 0-10: 1321 \tabs_delta mean:0.777m, Out of 5m: 0\n",
      "\tnum of depth 10-20: 4479 \tabs_delta mean:0.713m, Out of 5m: 3\n",
      "\tnum of depth 20-30: 4357 \tabs_delta mean:1.170m, Out of 5m: 15\n",
      "\tnum of depth 30-40: 3600 \tabs_delta mean:1.588m, Out of 5m: 95\n",
      "\tnum of depth 40-50: 2702 \tabs_delta mean:2.034m, Out of 5m: 153\n",
      "\tnum of depth 50-60: 1619 \tabs_delta mean:2.789m, Out of 5m: 242\n",
      "\tnum of depth 60+: 1172   \tabs_delta mean:3.631m, Out of 5m: 303\n",
      "[Total] mean:1.522, std:1.708\n"
     ]
    }
   ],
   "source": [
    "box_depth_error_calculation(depth_GT, calc_depth_L1, out_range=5)"
   ]
  },
  {
   "cell_type": "code",
   "execution_count": 338,
   "id": "c8b1b8cc",
   "metadata": {},
   "outputs": [
    {
     "name": "stdout",
     "output_type": "stream",
     "text": [
      "num of Car: 19250\n",
      "\tnum of depth 0-10: 1321 \tabs_delta mean:0.778m, Out of 5m: 0\n",
      "\tnum of depth 10-20: 4479 \tabs_delta mean:0.681m, Out of 5m: 3\n",
      "\tnum of depth 20-30: 4357 \tabs_delta mean:1.125m, Out of 5m: 18\n",
      "\tnum of depth 30-40: 3600 \tabs_delta mean:1.509m, Out of 5m: 80\n",
      "\tnum of depth 40-50: 2702 \tabs_delta mean:1.944m, Out of 5m: 142\n",
      "\tnum of depth 50-60: 1619 \tabs_delta mean:2.691m, Out of 5m: 219\n",
      "\tnum of depth 60+: 1172   \tabs_delta mean:3.498m, Out of 5m: 278\n",
      "[Total] mean:1.461, std:1.659\n"
     ]
    }
   ],
   "source": [
    "box_depth_error_calculation(depth_GT, calc_depth_AL1, out_range=5)"
   ]
  },
  {
   "cell_type": "code",
   "execution_count": 347,
   "id": "731282e4",
   "metadata": {},
   "outputs": [
    {
     "name": "stdout",
     "output_type": "stream",
     "text": [
      "ALL\n",
      "0.14393166116461553\n",
      "0.13814717896766388\n",
      "0.134547621557227\n",
      "Val\n",
      "0.14448681662514817\n",
      "0.13857501836045888\n",
      "0.13504707924301218\n",
      "Train\n",
      "0.14563839353193608\n",
      "0.1388124312541294\n",
      "0.1352747878371857\n"
     ]
    }
   ],
   "source": [
    "print('ALL')\n",
    "print(abs(DIM_GT[:,:]-DIM_REG_MSE[:,:]).mean())\n",
    "print(abs(DIM_GT[:,:]-DIM_REG_L1[:,:]).mean())\n",
    "print(abs(DIM_GT[:,:]-DIM_REG_AL1[:,:]).mean())\n",
    "print('Val')\n",
    "print(abs(DIM_GT[val_ids,:]-DIM_REG_MSE[val_ids,:]).mean())\n",
    "print(abs(DIM_GT[val_ids,:]-DIM_REG_L1[val_ids,:]).mean())\n",
    "print(abs(DIM_GT[val_ids,:]-DIM_REG_AL1[val_ids,:]).mean())\n",
    "print('Train')\n",
    "print(abs(DIM_GT[train_ids,:]-DIM_REG_MSE[train_ids,:]).mean())\n",
    "print(abs(DIM_GT[train_ids,:]-DIM_REG_L1[train_ids,:]).mean())\n",
    "print(abs(DIM_GT[train_ids,:]-DIM_REG_AL1[train_ids,:]).mean())"
   ]
  },
  {
   "cell_type": "code",
   "execution_count": 343,
   "id": "ac4c92fd",
   "metadata": {},
   "outputs": [
    {
     "name": "stdout",
     "output_type": "stream",
     "text": [
      "52.711701961317885\n",
      "0.13814717896766388\n"
     ]
    }
   ],
   "source": [
    "print(np.linalg.norm(DIM_GT[:,:]-DIM_REG_L1[:,:]))\n",
    "print(abs(DIM_GT[:,:]-DIM_REG_L1[:,:]).mean()) #-335"
   ]
  },
  {
   "cell_type": "code",
   "execution_count": 341,
   "id": "25164666",
   "metadata": {},
   "outputs": [
    {
     "name": "stdout",
     "output_type": "stream",
     "text": [
      "48.81996391167859\n",
      "0.134547621557227\n"
     ]
    }
   ],
   "source": [
    "print(np.linalg.norm(DIM_GT[:,1:]-DIM_REG_AL1[:,1:]))\n",
    "print(abs(DIM_GT[:,:]-DIM_REG_AL1[:,:]).mean()) #-542 -207"
   ]
  }
 ],
 "metadata": {
  "kernelspec": {
   "display_name": "Python 3 (ipykernel)",
   "language": "python",
   "name": "python3"
  },
  "language_info": {
   "codemirror_mode": {
    "name": "ipython",
    "version": 3
   },
   "file_extension": ".py",
   "mimetype": "text/x-python",
   "name": "python",
   "nbconvert_exporter": "python",
   "pygments_lexer": "ipython3",
   "version": "3.9.12"
  }
 },
 "nbformat": 4,
 "nbformat_minor": 5
}
