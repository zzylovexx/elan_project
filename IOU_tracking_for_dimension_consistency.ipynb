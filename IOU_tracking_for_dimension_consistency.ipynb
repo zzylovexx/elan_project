{
 "cells": [
  {
   "cell_type": "markdown",
   "metadata": {},
   "source": [
    "### 0719 DOING frame consistency"
   ]
  },
  {
   "cell_type": "markdown",
   "metadata": {},
   "source": [
    "## ELAN Evaluation metrics (Dim delta, depth, alpha, Dim consistency)"
   ]
  },
  {
   "cell_type": "code",
   "execution_count": 16,
   "metadata": {},
   "outputs": [],
   "source": [
    "from library.ron_utils import *\n",
    "import matplotlib.pyplot as plt\n",
    "from library.ron_utils import iou_2d, DetectedObject\n",
    "from ELAN_label_trackID import tracking_obj_by_labels\n",
    "\n",
    "'''\n",
    "cam_to_img = np.array([\n",
    "        [ 1.418667e+03, 0.000000e+00, 6.4e+02,0],\n",
    "        [ 0.000000e+00, 1.418667e+03, 3.6e+02,0],\n",
    "        [ 0.000000e+00, 0.000000e+00, 1.000000e+00,0]])\n",
    "'''\n",
    "\n",
    "def ELAN_eval_metrics(result_root):\n",
    "    valset = [x.strip() for x in open('Elan_3d_box/ImageSets/val.txt').readlines()]\n",
    "    dim_GT = list()\n",
    "    dim_ELAN = list()\n",
    "    depth_GT = list()\n",
    "    depth_ELAN = list()\n",
    "    alpha_GT = list()\n",
    "    alpha_ELAN = list()\n",
    "\n",
    "    for id_ in valset:\n",
    "        gt_lines = [x.strip() for x in open(f'Elan_3d_box/renew_label/{id_}.txt').readlines()]\n",
    "        gt_objects = [DetectedObject(line) for line in gt_lines if line.split()[0]=='Car']\n",
    "        for obj in gt_objects:\n",
    "            dim_GT.append(obj.dims[0])\n",
    "            depth_GT.append(obj.locs[0][2])\n",
    "            alpha_GT.append(obj.alphas[0])\n",
    "            \n",
    "        pred_lines = [x.strip() for x in open(f'{result_root}/{id_}.txt').readlines()]\n",
    "        pred_objects = [DetectedObject(line) for line in pred_lines if line.split()[0]=='Car']\n",
    "        for obj in pred_objects:\n",
    "            dim_ELAN.append(obj.dims[0])\n",
    "            depth_ELAN.append(obj.locs[0][2])\n",
    "            alpha_ELAN.append(obj.alphas[0])\n",
    "\n",
    "    dim_GT = np.array(dim_GT)\n",
    "    dim_ELAN = np.array(dim_ELAN)\n",
    "    depth_GT = np.array(depth_GT)\n",
    "    depth_ELAN = np.array(depth_ELAN)\n",
    "    alpha_GT = np.array(alpha_GT)\n",
    "    alpha_ELAN = np.array(alpha_ELAN)\n",
    "\n",
    "    depth_diff = depth_GT-depth_ELAN\n",
    "    alpha_diff = np.cos(alpha_GT - alpha_ELAN)\n",
    "    dim_diff = np.mean(abs(dim_GT-dim_ELAN), axis=0)\n",
    "    print(f'[DIM diff] H:{dim_diff[0]:.4f}, W:{dim_diff[1]:.4f}, L:{dim_diff[2]:.4f}')\n",
    "    \n",
    "    print(f'[Alpha diff] abs_mean: {alpha_diff.mean():.4f}')\n",
    "    plt.hist(alpha_diff)\n",
    "    plt.show()\n",
    "    print(f'[Depth diff] abs_mean: {abs(depth_diff).mean():.4f}')\n",
    "    print('[Depth error]')\n",
    "    box_depth_error_calculation(depth_GT, depth_ELAN, 5)"
   ]
  },
  {
   "cell_type": "code",
   "execution_count": 17,
   "metadata": {},
   "outputs": [
    {
     "name": "stdout",
     "output_type": "stream",
     "text": [
      "[DIM diff] H:0.1903, W:0.1478, L:0.5493\n",
      "[Alpha diff] abs_mean: 0.7549\n"
     ]
    },
    {
     "data": {
      "image/png": "[encoded data removed]",
      "text/plain": [
       "<Figure size 432x288 with 1 Axes>"
      ]
     },
     "metadata": {
      "needs_background": "light"
     },
     "output_type": "display_data"
    },
    {
     "name": "stdout",
     "output_type": "stream",
     "text": [
      "[Depth diff] abs_mean: 4.6484\n",
      "[Depth error]\n",
      "num of Car: 665\n",
      "\tnum of depth 0-10: 0 \n",
      "\tnum of depth 10-20: 68   abs_delta mean:2.900m, Out of 5m: 11\n",
      "\tnum of depth 20-30: 142   abs_delta mean:3.744m, Out of 5m: 40\n",
      "\tnum of depth 30-40: 259   abs_delta mean:3.976m, Out of 5m: 75\n",
      "\tnum of depth 40-50: 95   abs_delta mean:7.061m, Out of 5m: 49\n",
      "\tnum of depth 50-60: 50   abs_delta mean:6.514m, Out of 5m: 27\n",
      "\tnum of depth 60+: 51     abs_delta mean:6.587m, Out of 5m: 28\n",
      "[Total] mean:4.648, std:4.591\n",
      "\n",
      "||||||||||||||||||||||||||||||||||||||||\n",
      "\n",
      "[DIM diff] H:0.2203, W:0.1630, L:0.6798\n",
      "[Alpha diff] abs_mean: 0.7756\n"
     ]
    },
    {
     "data": {
      "image/png": "[encoded data removed]",
      "text/plain": [
       "<Figure size 432x288 with 1 Axes>"
      ]
     },
     "metadata": {
      "needs_background": "light"
     },
     "output_type": "display_data"
    },
    {
     "name": "stdout",
     "output_type": "stream",
     "text": [
      "[Depth diff] abs_mean: 4.8879\n",
      "[Depth error]\n",
      "num of Car: 665\n",
      "\tnum of depth 0-10: 0 \n",
      "\tnum of depth 10-20: 68   abs_delta mean:3.051m, Out of 5m: 11\n",
      "\tnum of depth 20-30: 142   abs_delta mean:3.759m, Out of 5m: 40\n",
      "\tnum of depth 30-40: 259   abs_delta mean:4.236m, Out of 5m: 86\n",
      "\tnum of depth 40-50: 95   abs_delta mean:6.680m, Out of 5m: 50\n",
      "\tnum of depth 50-60: 50   abs_delta mean:8.237m, Out of 5m: 29\n",
      "\tnum of depth 60+: 51     abs_delta mean:7.166m, Out of 5m: 29\n",
      "[Total] mean:4.888, std:4.540\n"
     ]
    }
   ],
   "source": [
    "ELAN_eval_metrics('ELAN_video')\n",
    "print()\n",
    "print('||'*20)\n",
    "print()\n",
    "ELAN_eval_metrics('0720_BL')"
   ]
  },
  {
   "cell_type": "markdown",
   "metadata": {},
   "source": [
    "## Eval result : improvement of objects"
   ]
  },
  {
   "cell_type": "code",
   "execution_count": 44,
   "metadata": {},
   "outputs": [
    {
     "name": "stdout",
     "output_type": "stream",
     "text": [
      "0\n",
      "500\n",
      "0\n",
      "500\n",
      "0\n",
      "500\n"
     ]
    }
   ],
   "source": [
    "import glob\n",
    "trainset = [x.strip() for x in open('Elan_3d_box/ImageSets/train.txt').readlines()]\n",
    "valset = [x.strip() for x in open('Elan_3d_box/ImageSets/val.txt').readlines()]\n",
    "\n",
    "val_images = sorted(glob.glob('Elan_3d_box/image_2/*.png'))[-1*len(valset):] \n",
    "GT_labels = sorted(glob.glob('Elan_3d_box/renew_label/*.txt'))[-1*len(valset):]\n",
    "V_labels = sorted(glob.glob('ELAN_video/*.txt'))[-1*len(valset):]\n",
    "BL_labels = sorted(glob.glob('ELAN_BL/*.txt'))[-1*len(valset):]\n",
    "assert len(valset) == len(V_labels), 'video_label length diff'\n",
    "assert len(valset) == len(BL_labels), 'BL_label length diff'\n",
    "\n",
    "GT_tracking_dict = tracking_obj_by_labels(GT_labels, val_images, WRITE_FILE=False)\n",
    "V_tracking_dict = tracking_obj_by_labels(V_labels, val_images, WRITE_FILE=False)\n",
    "BL_tracking_dict = tracking_obj_by_labels(BL_labels, val_images, WRITE_FILE=False)"
   ]
  },
  {
   "cell_type": "code",
   "execution_count": 45,
   "metadata": {},
   "outputs": [],
   "source": [
    "other_count = 0\n",
    "\n",
    "dim_GT_1 = list()\n",
    "dim_V_1 = list()\n",
    "dim_BL_1 = list()\n",
    "\n",
    "dim_GT_f = list()\n",
    "dim_V_f = list()\n",
    "dim_BL_f = list()\n",
    "\n",
    "classes = ['motor', 'bus', 'car']\n",
    "for key in GT_tracking_dict.keys():\n",
    "    GT_obj = GT_tracking_dict[key]\n",
    "    V_obj = V_tracking_dict[key]\n",
    "    BL_obj = BL_tracking_dict[key]\n",
    "    if GT_obj.class_.lower() != 'car':\n",
    "        other_count += 1\n",
    "        continue\n",
    "    if (V_obj.box2d != BL_obj.box2d).all() or (V_obj.box2d != GT_obj.box2d).all() or (GT_obj.box2d != BL_obj.box2d).all():\n",
    "        print('Box 2D diff:', key)\n",
    "        break\n",
    "        \n",
    "    if len(GT_obj.frames) == 1:\n",
    "        dim_GT_1.append(GT_obj.dims[0])\n",
    "        dim_V_1.append(V_obj.dims[0])\n",
    "        dim_BL_1.append(BL_obj.dims[0])\n",
    "    else:\n",
    "        dim_GT_f += GT_obj.dims\n",
    "        dim_V_f += V_obj.dims\n",
    "        dim_BL_f += BL_obj.dims\n",
    "            "
   ]
  },
  {
   "cell_type": "code",
   "execution_count": 55,
   "metadata": {},
   "outputs": [
    {
     "name": "stdout",
     "output_type": "stream",
     "text": [
      "(80, 3)\n",
      "(586, 3)\n",
      "1591\n",
      "682\n"
     ]
    },
    {
     "data": {
      "text/plain": [
       "2273"
      ]
     },
     "execution_count": 55,
     "metadata": {},
     "output_type": "execute_result"
    }
   ],
   "source": [
    "print(dim_GT_1.shape)\n",
    "print(dim_GT_f.shape)\n",
    "trainset = [x.strip() for x in open('Elan_3d_box/ImageSets/train.txt').readlines()]\n",
    "print(len(trainset))\n",
    "print(len(valset))\n",
    "1591+682"
   ]
  },
  {
   "cell_type": "code",
   "execution_count": 47,
   "metadata": {},
   "outputs": [
    {
     "name": "stdout",
     "output_type": "stream",
     "text": [
      "[0.1775   0.200875 0.6305  ]\n",
      "[0.211875 0.200125 0.78475 ]\n",
      "[0.19448805 0.14117747 0.54849829]\n",
      "[0.21143345 0.15583618 0.70049488]\n"
     ]
    }
   ],
   "source": [
    "dim_GT_1 = np.array(dim_GT_1)\n",
    "dim_V_1 = np.array(dim_V_1)\n",
    "dim_BL_1 = np.array(dim_BL_1)\n",
    "dim_GT_f = np.array(dim_GT_f)\n",
    "dim_V_f = np.array(dim_V_f)\n",
    "dim_BL_f = np.array(dim_BL_f)\n",
    "\n",
    "V_dim_diff_1 = np.mean(abs(dim_GT_1 - dim_V_1), axis=0)\n",
    "BL_dim_diff_1 = np.mean(abs(dim_GT_1 - dim_BL_1), axis=0)\n",
    "print(V_dim_diff_1)\n",
    "print(BL_dim_diff_1)\n",
    "\n",
    "V_dim_diff_f = np.mean(abs(dim_GT_f - dim_V_f), axis=0)\n",
    "BL_dim_diff_f = np.mean(abs(dim_GT_f - dim_BL_f), axis=0)\n",
    "print(V_dim_diff_f)\n",
    "print(BL_dim_diff_f)"
   ]
  }
 ],
 "metadata": {
  "kernelspec": {
   "display_name": "Python 3",
   "language": "python",
   "name": "python3"
  },
  "language_info": {
   "codemirror_mode": {
    "name": "ipython",
    "version": 3
   },
   "file_extension": ".py",
   "mimetype": "text/x-python",
   "name": "python",
   "nbconvert_exporter": "python",
   "pygments_lexer": "ipython3",
   "version": "3.8.5"
  }
 },
 "nbformat": 4,
 "nbformat_minor": 5
}
