{
 "cells": [
  {
   "cell_type": "code",
   "execution_count": 1,
   "metadata": {},
   "outputs": [
    {
     "data": {
      "text/plain": [
       "\"\\ndef iou_2d(box1, box2):\\n    box1 = box1.flatten()\\n    box2 = box2.flatten()\\n    area1 = (box1[2]-box1[0])*(box1[3]-box1[1])\\n    area2 = (box2[2]-box2[0])*(box2[3]-box2[1])\\n    area_sum = abs(area1) + abs(area2)\\n    \\n    #計算重疊方形座標\\n    x1 = max(box1[0], box2[0]) # left\\n    y1 = max(box1[1], box2[1]) # top\\n    x2 = min(box1[2], box2[2]) # right\\n    y2 = min(box1[3], box2[3]) # btm\\n\\n    if x1 >= x2 or y1 >= y2:\\n        return 0\\n    else:\\n        inter_area = abs((x2-x1)*(y2-y1))\\n    return inter_area/(area_sum-inter_area)\\n\\nclass DetectedObject(object):\\n    def __init__(self, line):\\n        self.line = line\\n        self.class_ = None\\n        self.box2d = None\\n        self.dims = None\\n        self.locs = None\\n        self.rys = None\\n        self.id = None\\n        self.frames = list()\\n        self.crops = list()\\n        self.lines = list()\\n        self.set_info(line)\\n        \\n    def set_info(self, line):\\n        self.lines.append(line)\\n        elements = line.split()\\n        for j in range(1, len(elements)):\\n            elements[j] = float(elements[j])\\n        top_left = [int(round(elements[4])), int(round(elements[5]))]\\n        btm_right = [int(round(elements[6])), int(round(elements[7]))]\\n        self.box2d = np.array([top_left, btm_right])\\n        self.class_ = elements[0]\\n        self.alphas = [elements[3]]\\n        self.dims = [[elements[8], elements[9], elements[10]]]\\n        self.locs = [[elements[11], elements[12], elements[13]]]\\n        self.rys = [elements[14]]\\n        if len(elements) == 16:\\n            self.id = int(elements[15])\\n    \\n    def update_info(self, obj):\\n        self.box2d = obj.box2d\\n        self.alphas += obj.alphas\\n        self.dims += obj.dims\\n        self.locs += obj.locs\\n        self.rys += obj.rys\\n        self.lines.append(obj.line)\\n        \\n    def record_frames(self, frame_id):\\n        self.frames.append(frame_id)\\n        \\ndef tracking_obj_by_labels(labels, images, WRITE_FILE=False, folder='renew_label', new_folder='renew_label_obj'):\\n    tracking_dict = dict()\\n    for idx in range(len(labels)):\\n        lines = [x.strip() for x in open(labels[idx]).readlines()]\\n        new_lines = [line for line in lines]\\n        img = cv2.cvtColor(cv2.imread(images[idx]), cv2.COLOR_BGR2RGB)\\n        objects = [DetectedObject(line) for line in lines]\\n        for obj_idx, obj in enumerate(objects):\\n            # first frame\\n            top_left, btm_right = obj.box2d\\n            crop = img[top_left[1]:btm_right[1]+1, top_left[0]:btm_right[0]+1]\\n            if len(tracking_dict.keys()) == 0:\\n                tracking_dict[obj_idx] = obj\\n                tracking_dict[obj_idx].record_frames(idx)\\n                tracking_dict[obj_idx].crops.append(crop)\\n                new_lines[obj_idx] += f' {obj_idx}'\\n            else:\\n                now_box2d = obj.box2d\\n                match = False\\n                for key in tracking_dict.keys():\\n                    last_box2d = tracking_dict[key].box2d\\n                    iou_value = iou_2d(now_box2d, last_box2d)\\n                    last_frame = tracking_dict[key].frames[-1]\\n                    if iou_value > 0.6 and idx - last_frame < 5:\\n                        #print(f'MATCHED:{iou_value:.2f}')\\n                        match = True\\n                        tracking_dict[key].update_info(obj)\\n                        tracking_dict[key].record_frames(idx)\\n                        tracking_dict[key].crops.append(crop)\\n                        new_lines[obj_idx] += f' {key}'\\n                        break\\n                if not match: #new obj\\n                    new_id = len(tracking_dict.keys())\\n                    tracking_dict[new_id] = obj\\n                    tracking_dict[new_id].record_frames(idx)\\n                    #tracking_dict[new_id].crops.append(crop)\\n                    new_lines[obj_idx] += f' {new_id}'\\n        if WRITE_FILE:\\n            with open(labels[idx].replace(folder, new_folder), 'w') as f:\\n                for line in new_lines:\\n                    f.writelines(line + '\\n')\\n        if idx%500 == 0:\\n            print(idx)\\n    return tracking_dict\\n\\ndef get_object_label(objects, bin_num=4):\\n    ELAN_averages = ClassAverages(average_file='renew_ELAN_class_averages.txt')\\n    label = dict()\\n    Heading_class = list()\\n    Residual = list()\\n    Dim_delta = list()\\n    TrackID = list()\\n    for obj in objects:\\n        heading_class, residual = angle2class(obj.alphas[0], bin_num)\\n        dim_delta = np.array(obj.dims[0]) - ELAN_averages.get_item(obj.class_)\\n        obj_id = obj.id\\n        Heading_class.append(heading_class)\\n        Residual.append(residual)\\n        Dim_delta.append(dim_delta)\\n        TrackID.append(obj_id)\\n    label['bin'] = torch.tensor(Heading_class)\\n    label['residual'] = torch.tensor(Residual)\\n    label['dim_delta'] = torch.tensor(np.array(Dim_delta))\\n    label['track_id'] = TrackID\\n    return label\\n\\ndef id_compare(now_id, last_id):\\n    now_id_list = list()\\n    last_id_list = list()\\n    for idx, id_ in enumerate(now_id):\\n        try:\\n            find_idx = last_id.index(id_)\\n        except:\\n            find_idx = -1\\n\\n        if find_idx != -1:\\n            now_id_list.append(idx)\\n            last_id_list.append(find_idx)\\n    return now_id_list, last_id_list\\n\""
      ]
     },
     "execution_count": 1,
     "metadata": {},
     "output_type": "execute_result"
    }
   ],
   "source": [
    "from library.ron_utils import iou_2d, DetectedObject\n",
    "from ELAN_label_trackID import tracking_obj_by_labels\n",
    "from ELAN_video_train import get_object_label, id_compare\n",
    "'''\n",
    "def iou_2d(box1, box2):\n",
    "    box1 = box1.flatten()\n",
    "    box2 = box2.flatten()\n",
    "    area1 = (box1[2]-box1[0])*(box1[3]-box1[1])\n",
    "    area2 = (box2[2]-box2[0])*(box2[3]-box2[1])\n",
    "    area_sum = abs(area1) + abs(area2)\n",
    "    \n",
    "    #計算重疊方形座標\n",
    "    x1 = max(box1[0], box2[0]) # left\n",
    "    y1 = max(box1[1], box2[1]) # top\n",
    "    x2 = min(box1[2], box2[2]) # right\n",
    "    y2 = min(box1[3], box2[3]) # btm\n",
    "\n",
    "    if x1 >= x2 or y1 >= y2:\n",
    "        return 0\n",
    "    else:\n",
    "        inter_area = abs((x2-x1)*(y2-y1))\n",
    "    return inter_area/(area_sum-inter_area)\n",
    "\n",
    "class DetectedObject(object):\n",
    "    def __init__(self, line):\n",
    "        self.line = line\n",
    "        self.class_ = None\n",
    "        self.box2d = None\n",
    "        self.dims = None\n",
    "        self.locs = None\n",
    "        self.rys = None\n",
    "        self.id = None\n",
    "        self.frames = list()\n",
    "        self.crops = list()\n",
    "        self.lines = list()\n",
    "        self.set_info(line)\n",
    "        \n",
    "    def set_info(self, line):\n",
    "        self.lines.append(line)\n",
    "        elements = line.split()\n",
    "        for j in range(1, len(elements)):\n",
    "            elements[j] = float(elements[j])\n",
    "        top_left = [int(round(elements[4])), int(round(elements[5]))]\n",
    "        btm_right = [int(round(elements[6])), int(round(elements[7]))]\n",
    "        self.box2d = np.array([top_left, btm_right])\n",
    "        self.class_ = elements[0]\n",
    "        self.alphas = [elements[3]]\n",
    "        self.dims = [[elements[8], elements[9], elements[10]]]\n",
    "        self.locs = [[elements[11], elements[12], elements[13]]]\n",
    "        self.rys = [elements[14]]\n",
    "        if len(elements) == 16:\n",
    "            self.id = int(elements[15])\n",
    "    \n",
    "    def update_info(self, obj):\n",
    "        self.box2d = obj.box2d\n",
    "        self.alphas += obj.alphas\n",
    "        self.dims += obj.dims\n",
    "        self.locs += obj.locs\n",
    "        self.rys += obj.rys\n",
    "        self.lines.append(obj.line)\n",
    "        \n",
    "    def record_frames(self, frame_id):\n",
    "        self.frames.append(frame_id)\n",
    "        \n",
    "def tracking_obj_by_labels(labels, images, WRITE_FILE=False, folder='renew_label', new_folder='renew_label_obj'):\n",
    "    tracking_dict = dict()\n",
    "    for idx in range(len(labels)):\n",
    "        lines = [x.strip() for x in open(labels[idx]).readlines()]\n",
    "        new_lines = [line for line in lines]\n",
    "        img = cv2.cvtColor(cv2.imread(images[idx]), cv2.COLOR_BGR2RGB)\n",
    "        objects = [DetectedObject(line) for line in lines]\n",
    "        for obj_idx, obj in enumerate(objects):\n",
    "            # first frame\n",
    "            top_left, btm_right = obj.box2d\n",
    "            crop = img[top_left[1]:btm_right[1]+1, top_left[0]:btm_right[0]+1]\n",
    "            if len(tracking_dict.keys()) == 0:\n",
    "                tracking_dict[obj_idx] = obj\n",
    "                tracking_dict[obj_idx].record_frames(idx)\n",
    "                tracking_dict[obj_idx].crops.append(crop)\n",
    "                new_lines[obj_idx] += f' {obj_idx}'\n",
    "            else:\n",
    "                now_box2d = obj.box2d\n",
    "                match = False\n",
    "                for key in tracking_dict.keys():\n",
    "                    last_box2d = tracking_dict[key].box2d\n",
    "                    iou_value = iou_2d(now_box2d, last_box2d)\n",
    "                    last_frame = tracking_dict[key].frames[-1]\n",
    "                    if iou_value > 0.6 and idx - last_frame < 5:\n",
    "                        #print(f'MATCHED:{iou_value:.2f}')\n",
    "                        match = True\n",
    "                        tracking_dict[key].update_info(obj)\n",
    "                        tracking_dict[key].record_frames(idx)\n",
    "                        tracking_dict[key].crops.append(crop)\n",
    "                        new_lines[obj_idx] += f' {key}'\n",
    "                        break\n",
    "                if not match: #new obj\n",
    "                    new_id = len(tracking_dict.keys())\n",
    "                    tracking_dict[new_id] = obj\n",
    "                    tracking_dict[new_id].record_frames(idx)\n",
    "                    #tracking_dict[new_id].crops.append(crop)\n",
    "                    new_lines[obj_idx] += f' {new_id}'\n",
    "        if WRITE_FILE:\n",
    "            with open(labels[idx].replace(folder, new_folder), 'w') as f:\n",
    "                for line in new_lines:\n",
    "                    f.writelines(line + '\\n')\n",
    "        if idx%500 == 0:\n",
    "            print(idx)\n",
    "    return tracking_dict\n",
    "\n",
    "def get_object_label(objects, bin_num=4):\n",
    "    ELAN_averages = ClassAverages(average_file='renew_ELAN_class_averages.txt')\n",
    "    label = dict()\n",
    "    Heading_class = list()\n",
    "    Residual = list()\n",
    "    Dim_delta = list()\n",
    "    TrackID = list()\n",
    "    for obj in objects:\n",
    "        heading_class, residual = angle2class(obj.alphas[0], bin_num)\n",
    "        dim_delta = np.array(obj.dims[0]) - ELAN_averages.get_item(obj.class_)\n",
    "        obj_id = obj.id\n",
    "        Heading_class.append(heading_class)\n",
    "        Residual.append(residual)\n",
    "        Dim_delta.append(dim_delta)\n",
    "        TrackID.append(obj_id)\n",
    "    label['bin'] = torch.tensor(Heading_class)\n",
    "    label['residual'] = torch.tensor(Residual)\n",
    "    label['dim_delta'] = torch.tensor(np.array(Dim_delta))\n",
    "    label['track_id'] = TrackID\n",
    "    return label\n",
    "\n",
    "def id_compare(now_id, last_id):\n",
    "    now_id_list = list()\n",
    "    last_id_list = list()\n",
    "    for idx, id_ in enumerate(now_id):\n",
    "        try:\n",
    "            find_idx = last_id.index(id_)\n",
    "        except:\n",
    "            find_idx = -1\n",
    "\n",
    "        if find_idx != -1:\n",
    "            now_id_list.append(idx)\n",
    "            last_id_list.append(find_idx)\n",
    "    return now_id_list, last_id_list\n",
    "'''"
   ]
  },
  {
   "cell_type": "code",
   "execution_count": 85,
   "metadata": {},
   "outputs": [
    {
     "name": "stdout",
     "output_type": "stream",
     "text": [
      "1591\n"
     ]
    }
   ],
   "source": [
    "import glob\n",
    "import numpy as np\n",
    "import cv2\n",
    "import os\n",
    "'''\n",
    "cam_to_img = np.array([\n",
    "        [ 1.418667e+03, 0.000000e+00, 6.4e+02,0],\n",
    "        [ 0.000000e+00, 1.418667e+03, 3.6e+02,0],\n",
    "        [ 0.000000e+00, 0.000000e+00, 1.000000e+00,0]])\n",
    "'''\n",
    "#1532~1632 tracking\n",
    "#40-60 tracking\n",
    "images = glob.glob('Elan_3d_box/image_2/*.png')\n",
    "renew_labels = glob.glob('Elan_3d_box/renew_label/*.txt')\n",
    "\n",
    "trainset = [x.strip() for x in open('Elan_3d_box/ImageSets/train.txt').readlines()]\n",
    "print(len(trainset))\n",
    "# train 0-1605.txt\n",
    "# val 1606-txt\n",
    "os.makedirs('Elan_3d_box/renew_label_obj', exist_ok=True)\n",
    "tracking_dict = tracking_obj_by_labels(renew_labels, WRITE_FILE=False)\n"
   ]
  },
  {
   "cell_type": "markdown",
   "metadata": {},
   "source": [
    "### 0719 DOING frame consistency"
   ]
  },
  {
   "cell_type": "markdown",
   "metadata": {},
   "source": [
    "## ELAN Evaluation metrics (Dim delta, depth, alpha, Dim consistency)"
   ]
  },
  {
   "cell_type": "code",
   "execution_count": 2,
   "metadata": {},
   "outputs": [],
   "source": [
    "from library.ron_utils import *\n",
    "import matplotlib.pyplot as plt\n",
    "\n",
    "def ELAN_eval_metrics(result_root):\n",
    "    valset = [x.strip() for x in open('Elan_3d_box/ImageSets/val.txt').readlines()]\n",
    "    dim_GT = list()\n",
    "    dim_ELAN = list()\n",
    "    depth_GT = list()\n",
    "    depth_ELAN = list()\n",
    "    alpha_GT = list()\n",
    "    alpha_ELAN = list()\n",
    "\n",
    "    for id_ in valset:\n",
    "        gt_lines = [x.strip() for x in open(f'Elan_3d_box/renew_label/{id_}.txt').readlines()]\n",
    "        gt_objects = [DetectedObject(line) for line in gt_lines if line.split()[0]=='Car']\n",
    "        for obj in gt_objects:\n",
    "            dim_GT.append(obj.dims[0])\n",
    "            depth_GT.append(obj.locs[0][2])\n",
    "            alpha_GT.append(obj.alphas[0])\n",
    "            \n",
    "        pred_lines = [x.strip() for x in open(f'{result_root}/{id_}.txt').readlines()]\n",
    "        pred_objects = [DetectedObject(line) for line in pred_lines if line.split()[0]=='Car']\n",
    "        for obj in pred_objects:\n",
    "            dim_ELAN.append(obj.dims[0])\n",
    "            depth_ELAN.append(obj.locs[0][2])\n",
    "            alpha_ELAN.append(obj.alphas[0])\n",
    "\n",
    "    dim_GT = np.array(dim_GT)\n",
    "    dim_ELAN = np.array(dim_ELAN)\n",
    "    depth_GT = np.array(depth_GT)\n",
    "    depth_ELAN = np.array(depth_ELAN)\n",
    "    alpha_GT = np.array(alpha_GT)\n",
    "    alpha_ELAN = np.array(alpha_ELAN)\n",
    "\n",
    "    depth_diff = depth_GT-depth_ELAN\n",
    "    alpha_diff = np.cos(alpha_GT - alpha_ELAN)\n",
    "    dim_diff = np.mean(abs(dim_GT-dim_ELAN), axis=0)\n",
    "    print(f'[DIM diff] H:{dim_diff[0]:.4f}, W:{dim_diff[1]:.4f}, L:{dim_diff[2]:.4f}')\n",
    "    \n",
    "    print(f'[Alpha diff] abs_mean: {alpha_diff.mean():.4f}')\n",
    "    plt.hist(alpha_diff)\n",
    "    plt.show()\n",
    "    print(f'[Depth diff] abs_mean: {abs(depth_diff).mean():.4f}')\n",
    "    print('[Depth error]')\n",
    "    box_depth_error_calculation(depth_GT, depth_ELAN, 5)"
   ]
  },
  {
   "cell_type": "code",
   "execution_count": 4,
   "metadata": {},
   "outputs": [
    {
     "name": "stdout",
     "output_type": "stream",
     "text": [
      "[DIM diff] H:0.1903, W:0.1478, L:0.5493\n",
      "[Alpha diff] abs_mean: 0.7549\n"
     ]
    },
    {
     "data": {
      "image/png": "[encoded data removed]",
      "text/plain": [
       "<Figure size 432x288 with 1 Axes>"
      ]
     },
     "metadata": {
      "needs_background": "light"
     },
     "output_type": "display_data"
    },
    {
     "name": "stdout",
     "output_type": "stream",
     "text": [
      "[Depth diff] abs_mean: 4.6484\n",
      "[Depth error]\n",
      "num of Car: 665\n",
      "\tnum of depth 0-10: 0 \n",
      "\tnum of depth 10-20: 68   abs_delta mean:2.900m, Out of 5m: 11\n",
      "\tnum of depth 20-30: 142   abs_delta mean:3.744m, Out of 5m: 40\n",
      "\tnum of depth 30-40: 259   abs_delta mean:3.976m, Out of 5m: 75\n",
      "\tnum of depth 40-50: 95   abs_delta mean:7.061m, Out of 5m: 49\n",
      "\tnum of depth 50-60: 50   abs_delta mean:6.514m, Out of 5m: 27\n",
      "\tnum of depth 60+: 51     abs_delta mean:6.587m, Out of 5m: 28\n",
      "[Total] mean:4.648, std:4.591\n",
      "\n",
      "||||||||||||||||||||||||||||||||||||||||\n",
      "\n",
      "[DIM diff] H:0.2203, W:0.1630, L:0.6798\n",
      "[Alpha diff] abs_mean: 0.7756\n"
     ]
    },
    {
     "data": {
      "image/png": "[encoded data removed]",
      "text/plain": [
       "<Figure size 432x288 with 1 Axes>"
      ]
     },
     "metadata": {
      "needs_background": "light"
     },
     "output_type": "display_data"
    },
    {
     "name": "stdout",
     "output_type": "stream",
     "text": [
      "[Depth diff] abs_mean: 4.8879\n",
      "[Depth error]\n",
      "num of Car: 665\n",
      "\tnum of depth 0-10: 0 \n",
      "\tnum of depth 10-20: 68   abs_delta mean:3.051m, Out of 5m: 11\n",
      "\tnum of depth 20-30: 142   abs_delta mean:3.759m, Out of 5m: 40\n",
      "\tnum of depth 30-40: 259   abs_delta mean:4.236m, Out of 5m: 86\n",
      "\tnum of depth 40-50: 95   abs_delta mean:6.680m, Out of 5m: 50\n",
      "\tnum of depth 50-60: 50   abs_delta mean:8.237m, Out of 5m: 29\n",
      "\tnum of depth 60+: 51     abs_delta mean:7.166m, Out of 5m: 29\n",
      "[Total] mean:4.888, std:4.540\n"
     ]
    }
   ],
   "source": [
    "ELAN_eval_metrics('ELAN_video')\n",
    "print()\n",
    "print('||'*20)\n",
    "print()\n",
    "ELAN_eval_metrics('0720_BL')"
   ]
  },
  {
   "cell_type": "markdown",
   "metadata": {},
   "source": [
    "## Eval result : improvement of objects"
   ]
  },
  {
   "cell_type": "code",
   "execution_count": 87,
   "metadata": {},
   "outputs": [
    {
     "name": "stdout",
     "output_type": "stream",
     "text": [
      "0\n",
      "500\n",
      "0\n",
      "500\n",
      "0\n",
      "500\n"
     ]
    }
   ],
   "source": [
    "valset = [x.strip() for x in open('Elan_3d_box/ImageSets/val.txt').readlines()]\n",
    "val_images = sorted(glob.glob('Elan_3d_box/image_2/*.png'))[-1*len(valset):] \n",
    "GT_labels = sorted(glob.glob('Elan_3d_box/renew_label/*.txt'))[-1*len(valset):]\n",
    "video_labels = sorted(glob.glob('ELAN_video/*.txt'))[-1*len(valset):]\n",
    "BL_labels = sorted(glob.glob('ELAN_BL/*.txt'))[-1*len(valset):]\n",
    "assert len(valset) == len(video_labels), 'video_label length diff'\n",
    "assert len(valset) == len(BL_labels), 'BL_label length diff'\n",
    "\n",
    "GT_tracking_dict = tracking_obj_by_labels(GT_labels, val_images, WRITE_FILE=False)\n",
    "video_tracking_dict = tracking_obj_by_labels(video_labels, val_images, WRITE_FILE=False)\n",
    "BL_tracking_dict = tracking_obj_by_labels(BL_labels, val_images, WRITE_FILE=False)"
   ]
  },
  {
   "cell_type": "code",
   "execution_count": 88,
   "metadata": {},
   "outputs": [
    {
     "name": "stdout",
     "output_type": "stream",
     "text": [
      "[1.34  1.75  4.135]\n",
      "[[1.34, 1.75, 4.21], [1.34, 1.75, 4.21], [1.34, 1.75, 4.21], [1.34, 1.75, 4.21], [1.34, 1.75, 4.21], [1.34, 1.75, 4.21], [1.34, 1.75, 3.91], [1.34, 1.75, 3.91]]\n",
      "\n",
      "[1.54125 1.79125 3.63125]\n",
      "[[1.39, 1.69, 3.16], [1.66, 1.87, 4.24], [1.47, 1.77, 3.22], [1.58, 1.82, 3.76], [1.54, 1.79, 3.68], [1.63, 1.85, 4.01], [1.46, 1.73, 3.16], [1.6, 1.81, 3.82]]\n",
      "\n",
      "[1.45625 1.77625 3.475  ]\n",
      "[[1.25, 1.68, 2.71], [1.72, 1.9, 4.57], [1.52, 1.85, 3.32], [1.53, 1.77, 3.46], [1.3, 1.7, 2.97], [1.5, 1.86, 4.27], [1.38, 1.74, 3.1], [1.45, 1.71, 3.4]]\n",
      "\n"
     ]
    }
   ],
   "source": [
    "other_count = 0\n",
    "no_consist_count = 0\n",
    "consist_count = 0\n",
    "for key in video_tracking_dict.keys():\n",
    "    GT_obj = gt_tracking_dict[key]\n",
    "    video_obj = video_tracking_dict[key]\n",
    "    BL_obj = BL_tracking_dict[key]\n",
    "    if GT_obj.class_.lower() != 'car':\n",
    "        other_count += 1\n",
    "        continue\n",
    "    if (video_obj.box2d != BL_obj.box2d).all() or (video_obj.box2d != GT_obj.box2d).all() or (GT_obj.box2d != BL_obj.box2d).all():\n",
    "        print('Box 2D diff:', key)\n",
    "        break\n",
    "        \n",
    "    if len(GT_obj.frames) == 1:\n",
    "        no_consist_count += 1\n",
    "        GT_dim = GT_obj.dims[0]\n",
    "        video_dim = video_obj.dims[0]\n",
    "        BL_dim = BL_obj.dims[0]\n",
    "    else:\n",
    "        GT_dim = np.mean(GT_obj.dims, axis=0)\n",
    "        \n",
    "        video_dim = np.mean(video_obj.dims, axis=0)\n",
    "        BL_dim = np.mean(BL_obj.dims, axis=0)\n",
    "        \n",
    "        print(GT_dim)\n",
    "        print(GT_obj.dims)\n",
    "        for crop in GT_obj.crops:\n",
    "            plt.imshow(crop)\n",
    "            plt.show()\n",
    "        print()\n",
    "        print(video_dim)\n",
    "        print(video_obj.dims)\n",
    "        print()\n",
    "        print(BL_dim)\n",
    "        print(BL_obj.dims)\n",
    "        print()\n",
    "        break\n",
    "            "
   ]
  },
  {
   "cell_type": "code",
   "execution_count": 79,
   "metadata": {},
   "outputs": [
    {
     "name": "stdout",
     "output_type": "stream",
     "text": [
      "[1.56, 2.0, 4.06]\n",
      "[1.65, 1.85, 3.91]\n",
      "[1.73, 1.89, 4.14]\n"
     ]
    }
   ],
   "source": [
    "print(gt_dim)\n",
    "print(video_dim)\n",
    "print(BL_dim)"
   ]
  }
 ],
 "metadata": {
  "kernelspec": {
   "display_name": "Python 3",
   "language": "python",
   "name": "python3"
  },
  "language_info": {
   "codemirror_mode": {
    "name": "ipython",
    "version": 3
   },
   "file_extension": ".py",
   "mimetype": "text/x-python",
   "name": "python",
   "nbconvert_exporter": "python",
   "pygments_lexer": "ipython3",
   "version": "3.8.5"
  }
 },
 "nbformat": 4,
 "nbformat_minor": 5
}
