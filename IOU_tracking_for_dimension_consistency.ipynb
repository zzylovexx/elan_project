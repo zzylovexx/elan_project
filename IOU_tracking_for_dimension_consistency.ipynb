{
 "cells": [
  {
   "cell_type": "markdown",
   "metadata": {},
   "source": [
    "### 0719 DOING frame consistency"
   ]
  },
  {
   "cell_type": "markdown",
   "metadata": {},
   "source": [
    "## ELAN Evaluation metrics (Dim delta, depth, alpha, Dim consistency)"
   ]
  },
  {
   "cell_type": "code",
   "execution_count": 1,
   "metadata": {},
   "outputs": [],
   "source": [
    "from library.ron_utils import *\n",
    "import matplotlib.pyplot as plt\n",
    "from library.ron_utils import iou_2d, TrackingObject\n",
    "from ELAN_label_trackID import tracking_obj_by_labels\n",
    "from ELAN_EVAL import evaluation\n",
    "\n",
    "'''\n",
    "cam_to_img = np.array([\n",
    "        [ 1.418667e+03, 0.000000e+00, 6.4e+02,0],\n",
    "        [ 0.000000e+00, 1.418667e+03, 3.6e+02,0],\n",
    "        [ 0.000000e+00, 0.000000e+00, 1.000000e+00,0]])\n",
    "'''\n",
    "\n",
    "def ELAN_eval_metrics(result_root):\n",
    "    valset = [x.strip() for x in open('Elan_3d_box/ImageSets/val.txt').readlines()]\n",
    "    dim_GT = list()\n",
    "    dim_ELAN = list()\n",
    "    depth_GT = list()\n",
    "    depth_ELAN = list()\n",
    "    alpha_GT = list()\n",
    "    alpha_ELAN = list()\n",
    "    #set_ = set()\n",
    "    for id_ in valset:\n",
    "        gt_lines = [x.strip() for x in open(f'Elan_3d_box/renew_label_obj/{id_}.txt').readlines()]\n",
    "        gt_objects = [DetectedObject(line) for line in gt_lines if line.split()[0].lower()=='car']\n",
    "        \n",
    "        for obj in gt_objects:\n",
    "            #set_.add(obj.id)\n",
    "            dim_GT.append(obj.dims[0])\n",
    "            depth_GT.append(obj.locs[0][2])\n",
    "            alpha_GT.append(obj.alphas[0])\n",
    "            \n",
    "        pred_lines = [x.strip() for x in open(f'{result_root}/label_2/{id_}.txt').readlines()]\n",
    "        pred_objects = [DetectedObject(line) for line in pred_lines if line.split()[0].lower()=='car']\n",
    "        for obj in pred_objects:\n",
    "            dim_ELAN.append(obj.dims[0])\n",
    "            depth_ELAN.append(obj.locs[0][2])\n",
    "            alpha_ELAN.append(obj.alphas[0])\n",
    "    \n",
    "    #print('OBJECT NUM', len(set_))\n",
    "    #print(set_)\n",
    "    dim_GT = np.array(dim_GT)\n",
    "    dim_ELAN = np.array(dim_ELAN)\n",
    "    depth_GT = np.array(depth_GT)\n",
    "    depth_ELAN = np.array(depth_ELAN)\n",
    "    alpha_GT = np.array(alpha_GT)\n",
    "    alpha_ELAN = np.array(alpha_ELAN)\n",
    "\n",
    "    depth_diff = depth_GT-depth_ELAN\n",
    "    alpha_diff = np.cos(alpha_GT - alpha_ELAN)\n",
    "    dim_diff = np.mean(abs(dim_GT-dim_ELAN), axis=0)\n",
    "    print(f'[DIM diff] H:{dim_diff[0]:.4f}, W:{dim_diff[1]:.4f}, L:{dim_diff[2]:.4f}')\n",
    "    \n",
    "    print(f'[Alpha diff] abs_mean: {1-alpha_diff.mean():.4f}')\n",
    "    plt.hist(alpha_diff)\n",
    "    plt.show()\n",
    "    print(f'[Depth diff] abs_mean: {abs(depth_diff).mean():.4f}')\n",
    "    print('[Depth error]')\n",
    "    box_depth_error_calculation(depth_GT, depth_ELAN, 5)"
   ]
  },
  {
   "cell_type": "code",
   "execution_count": 30,
   "metadata": {},
   "outputs": [
    {
     "name": "stdout",
     "output_type": "stream",
     "text": [
      "========BL_B4_N1_G_W10========\n",
      "[Depth diff] abs_mean: 4.8287\n",
      "[Alpha diff] abs_mean: 0.1262\n",
      "[DIM diff] H:0.2133, W:0.1549, L:0.6770\n",
      "[Depth error]\n",
      "num of Car: 665\n",
      "\tnum of depth 0-10: 0 \n",
      "\tnum of depth 10-20: 68   abs_delta mean:3.183m, Out of 5m: 11\n",
      "\tnum of depth 20-30: 142   abs_delta mean:3.936m, Out of 5m: 43\n",
      "\tnum of depth 30-40: 259   abs_delta mean:4.214m, Out of 5m: 87\n",
      "\tnum of depth 40-50: 95   abs_delta mean:6.790m, Out of 5m: 49\n",
      "\tnum of depth 50-60: 50   abs_delta mean:7.450m, Out of 5m: 25\n",
      "\tnum of depth 60+: 51     abs_delta mean:6.405m, Out of 5m: 28\n",
      "[Total] mean:4.829, std:4.503\n",
      "\n",
      "========Vdim_B4_N1_G_W10========\n",
      "[Depth diff] abs_mean: 4.6667\n",
      "[Alpha diff] abs_mean: 0.1316\n",
      "[DIM diff] H:0.1801, W:0.1450, L:0.5687\n",
      "[Depth error]\n",
      "num of Car: 665\n",
      "\tnum of depth 0-10: 0 \n",
      "\tnum of depth 10-20: 68   abs_delta mean:3.212m, Out of 5m: 13\n",
      "\tnum of depth 20-30: 142   abs_delta mean:3.799m, Out of 5m: 39\n",
      "\tnum of depth 30-40: 259   abs_delta mean:4.020m, Out of 5m: 74\n",
      "\tnum of depth 40-50: 95   abs_delta mean:6.274m, Out of 5m: 46\n",
      "\tnum of depth 50-60: 50   abs_delta mean:7.738m, Out of 5m: 29\n",
      "\tnum of depth 60+: 51     abs_delta mean:6.301m, Out of 5m: 27\n",
      "[Total] mean:4.667, std:4.357\n",
      "\n",
      "========V_alpha_B4_N1_G_W10========\n",
      "[Depth diff] abs_mean: 4.2379\n",
      "[Alpha diff] abs_mean: 0.0812\n",
      "[DIM diff] H:0.1440, W:0.1282, L:0.5219\n",
      "[Depth error]\n",
      "num of Car: 665\n",
      "\tnum of depth 0-10: 0 \n",
      "\tnum of depth 10-20: 68   abs_delta mean:2.303m, Out of 5m: 5\n",
      "\tnum of depth 20-30: 142   abs_delta mean:3.710m, Out of 5m: 43\n",
      "\tnum of depth 30-40: 259   abs_delta mean:3.449m, Out of 5m: 67\n",
      "\tnum of depth 40-50: 95   abs_delta mean:5.935m, Out of 5m: 40\n",
      "\tnum of depth 50-60: 50   abs_delta mean:7.637m, Out of 5m: 26\n",
      "\tnum of depth 60+: 51     abs_delta mean:5.798m, Out of 5m: 22\n",
      "[Total] mean:4.238, std:4.565\n",
      "\n",
      "========Vdim_alpha_B4_N1_G_W10========\n",
      "[Depth diff] abs_mean: 4.5591\n",
      "[Alpha diff] abs_mean: 0.1285\n",
      "[DIM diff] H:0.1735, W:0.1386, L:0.5618\n",
      "[Depth error]\n",
      "num of Car: 665\n",
      "\tnum of depth 0-10: 0 \n",
      "\tnum of depth 10-20: 68   abs_delta mean:3.306m, Out of 5m: 11\n",
      "\tnum of depth 20-30: 142   abs_delta mean:3.754m, Out of 5m: 40\n",
      "\tnum of depth 30-40: 259   abs_delta mean:3.844m, Out of 5m: 69\n",
      "\tnum of depth 40-50: 95   abs_delta mean:5.927m, Out of 5m: 39\n",
      "\tnum of depth 50-60: 50   abs_delta mean:7.825m, Out of 5m: 29\n",
      "\tnum of depth 60+: 51     abs_delta mean:6.354m, Out of 5m: 27\n",
      "[Total] mean:4.559, std:4.318\n",
      "\n"
     ]
    }
   ],
   "source": [
    "# BL_IMAGENET BL_ELAN\n",
    "# video_IMAGENET video_ELAN\n",
    "N0_folders = ['BL_B4_N0', 'Vdim_B4_N0', 'V_alpha_B4_N0', 'Vdim_alpha_B4_N0']\n",
    "N1_folders = ['BL_B4_N1', 'Vdim_B4_N1', 'V_alpha_B4_N1', 'Vdim_alpha_B4_N1']\n",
    "is_group = True\n",
    "for f in N1_folders:\n",
    "    if is_group:\n",
    "        f += '_G_W10'\n",
    "    print(f'========{f}========')\n",
    "    evaluation(f)\n",
    "    print()\n"
   ]
  },
  {
   "cell_type": "markdown",
   "metadata": {},
   "source": [
    "## Eval result : improvement of objects"
   ]
  },
  {
   "cell_type": "code",
   "execution_count": 94,
   "metadata": {},
   "outputs": [
    {
     "name": "stdout",
     "output_type": "stream",
     "text": [
      "0\n"
     ]
    }
   ],
   "source": [
    "print(len(V_labels))"
   ]
  },
  {
   "cell_type": "code",
   "execution_count": 100,
   "metadata": {},
   "outputs": [
    {
     "name": "stdout",
     "output_type": "stream",
     "text": [
      "0\n",
      "500\n",
      "0\n",
      "500\n",
      "0\n",
      "500\n"
     ]
    }
   ],
   "source": [
    "import glob\n",
    "trainset = [x.strip() for x in open('Elan_3d_box/ImageSets/train.txt').readlines()]\n",
    "valset = [x.strip() for x in open('Elan_3d_box/ImageSets/val.txt').readlines()]\n",
    "val_images = sorted(glob.glob('Elan_3d_box/image_2/*.png'))[-1*len(valset):] \n",
    "GT_labels = sorted(glob.glob('Elan_3d_box/renew_label/*.txt'))[-1*len(valset):]\n",
    "\n",
    "# video_ELAN video_IMAGENET\n",
    "V_labels = sorted(glob.glob('video_ELAN/label_2/*.txt'))[-1*len(valset):]\n",
    "# BL_ELAN BL_IMAGENET\n",
    "BL_labels = sorted(glob.glob('BL_ELAN/label_2/*.txt'))[-1*len(valset):]\n",
    "assert len(valset) == len(V_labels), 'video_label length diff'\n",
    "assert len(valset) == len(BL_labels), 'BL_label length diff'\n",
    "\n",
    "GT_tracking_dict = tracking_obj_by_labels(GT_labels, val_images, WRITE_FILE=False)\n",
    "V_tracking_dict = tracking_obj_by_labels(V_labels, val_images, WRITE_FILE=False)\n",
    "BL_tracking_dict = tracking_obj_by_labels(BL_labels, val_images, WRITE_FILE=False)"
   ]
  },
  {
   "cell_type": "code",
   "execution_count": 101,
   "metadata": {},
   "outputs": [],
   "source": [
    "other_count = 0\n",
    "c = 0\n",
    "dim_GT_1 = list()\n",
    "dim_V_1 = list()\n",
    "dim_BL_1 = list()\n",
    "\n",
    "dim_GT_f = list()\n",
    "dim_V_f = list()\n",
    "dim_BL_f = list()\n",
    "\n",
    "classes = ['motor', 'bus', 'car']\n",
    "for key in GT_tracking_dict.keys():\n",
    "    GT_obj = GT_tracking_dict[key]\n",
    "    V_obj = V_tracking_dict[key]\n",
    "    BL_obj = BL_tracking_dict[key]\n",
    "    if GT_obj.class_.lower() != 'car':\n",
    "        other_count += 1\n",
    "        continue\n",
    "    if (V_obj.box2d != BL_obj.box2d).all() or (V_obj.box2d != GT_obj.box2d).all() or (GT_obj.box2d != BL_obj.box2d).all():\n",
    "        print('Box 2D diff:', key)\n",
    "        break\n",
    "        \n",
    "    if len(GT_obj.frames) == 1:\n",
    "        dim_GT_1.append(GT_obj.dims[0])\n",
    "        dim_V_1.append(V_obj.dims[0])\n",
    "        dim_BL_1.append(BL_obj.dims[0])\n",
    "    else:\n",
    "        dim_GT_f += GT_obj.dims\n",
    "        dim_V_f += V_obj.dims\n",
    "        dim_BL_f += BL_obj.dims\n",
    "    c += 1 "
   ]
  },
  {
   "cell_type": "code",
   "execution_count": 102,
   "metadata": {
    "scrolled": true
   },
   "outputs": [
    {
     "name": "stdout",
     "output_type": "stream",
     "text": [
      "1 frame\n",
      "[0.236875 0.21625  0.817875]\n",
      "[0.174875 0.178625 0.608625]\n",
      "multi- frame\n",
      "[0.21197952 0.15894198 0.66158703]\n",
      "[0.1937372  0.13837884 0.56926621]\n"
     ]
    }
   ],
   "source": [
    "dim_GT_1 = np.array(dim_GT_1)\n",
    "dim_V_1 = np.array(dim_V_1)\n",
    "dim_BL_1 = np.array(dim_BL_1)\n",
    "dim_GT_f = np.array(dim_GT_f)\n",
    "dim_V_f = np.array(dim_V_f)\n",
    "dim_BL_f = np.array(dim_BL_f)\n",
    "\n",
    "V_dim_diff_1 = np.mean(abs(dim_GT_1 - dim_V_1), axis=0)\n",
    "BL_dim_diff_1 = np.mean(abs(dim_GT_1 - dim_BL_1), axis=0)\n",
    "print('1 frame')\n",
    "\n",
    "print(BL_dim_diff_1)\n",
    "print(V_dim_diff_1)\n",
    "\n",
    "V_dim_diff_f = np.mean(abs(dim_GT_f - dim_V_f), axis=0)\n",
    "BL_dim_diff_f = np.mean(abs(dim_GT_f - dim_BL_f), axis=0)\n",
    "print('multi- frame')\n",
    "print(BL_dim_diff_f)\n",
    "print(V_dim_diff_f)"
   ]
  },
  {
   "cell_type": "code",
   "execution_count": 104,
   "metadata": {},
   "outputs": [
    {
     "name": "stdout",
     "output_type": "stream",
     "text": [
      "[0.21496997 0.16582583 0.68036036]\n",
      "[0.19147147 0.14321321 0.57399399]\n"
     ]
    }
   ],
   "source": [
    "V_dim_diff_1 = abs(dim_GT_1 - dim_V_1)\n",
    "BL_dim_diff_1 = abs(dim_GT_1 - dim_BL_1)\n",
    "V_dim_diff_f = abs(dim_GT_f - dim_V_f)\n",
    "BL_dim_diff_f = abs(dim_GT_f - dim_BL_f)\n",
    "\n",
    "BL = np.concatenate((BL_dim_diff_1, BL_dim_diff_f))\n",
    "print(np.mean(BL, axis=0))\n",
    "\n",
    "V = np.concatenate((V_dim_diff_1, V_dim_diff_f))\n",
    "print(np.mean(V, axis=0))\n"
   ]
  }
 ],
 "metadata": {
  "kernelspec": {
   "display_name": "Python 3",
   "language": "python",
   "name": "python3"
  },
  "language_info": {
   "codemirror_mode": {
    "name": "ipython",
    "version": 3
   },
   "file_extension": ".py",
   "mimetype": "text/x-python",
   "name": "python",
   "nbconvert_exporter": "python",
   "pygments_lexer": "ipython3",
   "version": "3.8.5"
  }
 },
 "nbformat": 4,
 "nbformat_minor": 5
}
