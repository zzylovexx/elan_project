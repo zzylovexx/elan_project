{
 "cells": [
  {
   "cell_type": "markdown",
   "metadata": {},
   "source": [
    "### 0719 DOING frame consistency"
   ]
  },
  {
   "cell_type": "markdown",
   "metadata": {},
   "source": [
    "## ELAN Evaluation metrics (Dim delta, depth, alpha, Dim consistency)"
   ]
  },
  {
   "cell_type": "code",
   "execution_count": 109,
   "metadata": {},
   "outputs": [],
   "source": [
    "from library.ron_utils import *\n",
    "import matplotlib.pyplot as plt\n",
    "from library.ron_utils import iou_2d, DetectedObject\n",
    "from ELAN_label_trackID import tracking_obj_by_labels\n",
    "\n",
    "'''\n",
    "cam_to_img = np.array([\n",
    "        [ 1.418667e+03, 0.000000e+00, 6.4e+02,0],\n",
    "        [ 0.000000e+00, 1.418667e+03, 3.6e+02,0],\n",
    "        [ 0.000000e+00, 0.000000e+00, 1.000000e+00,0]])\n",
    "'''\n",
    "\n",
    "def ELAN_eval_metrics(result_root):\n",
    "    valset = [x.strip() for x in open('Elan_3d_box/ImageSets/val.txt').readlines()]\n",
    "    dim_GT = list()\n",
    "    dim_ELAN = list()\n",
    "    depth_GT = list()\n",
    "    depth_ELAN = list()\n",
    "    alpha_GT = list()\n",
    "    alpha_ELAN = list()\n",
    "    #set_ = set()\n",
    "    for id_ in valset:\n",
    "        gt_lines = [x.strip() for x in open(f'Elan_3d_box/renew_label_obj/{id_}.txt').readlines()]\n",
    "        gt_objects = [DetectedObject(line) for line in gt_lines if line.split()[0].lower()=='car']\n",
    "        \n",
    "        for obj in gt_objects:\n",
    "            #set_.add(obj.id)\n",
    "            dim_GT.append(obj.dims[0])\n",
    "            depth_GT.append(obj.locs[0][2])\n",
    "            alpha_GT.append(obj.alphas[0])\n",
    "            \n",
    "        pred_lines = [x.strip() for x in open(f'{result_root}/label_2/{id_}.txt').readlines()]\n",
    "        pred_objects = [DetectedObject(line) for line in pred_lines if line.split()[0].lower()=='car']\n",
    "        for obj in pred_objects:\n",
    "            dim_ELAN.append(obj.dims[0])\n",
    "            depth_ELAN.append(obj.locs[0][2])\n",
    "            alpha_ELAN.append(obj.alphas[0])\n",
    "    \n",
    "    #print('OBJECT NUM', len(set_))\n",
    "    #print(set_)\n",
    "    dim_GT = np.array(dim_GT)\n",
    "    dim_ELAN = np.array(dim_ELAN)\n",
    "    depth_GT = np.array(depth_GT)\n",
    "    depth_ELAN = np.array(depth_ELAN)\n",
    "    alpha_GT = np.array(alpha_GT)\n",
    "    alpha_ELAN = np.array(alpha_ELAN)\n",
    "\n",
    "    depth_diff = depth_GT-depth_ELAN\n",
    "    alpha_diff = np.cos(alpha_GT - alpha_ELAN)\n",
    "    dim_diff = np.mean(abs(dim_GT-dim_ELAN), axis=0)\n",
    "    print(f'[DIM diff] H:{dim_diff[0]:.4f}, W:{dim_diff[1]:.4f}, L:{dim_diff[2]:.4f}')\n",
    "    \n",
    "    print(f'[Alpha diff] abs_mean: {1-alpha_diff.mean():.4f}')\n",
    "    plt.hist(alpha_diff)\n",
    "    plt.show()\n",
    "    print(f'[Depth diff] abs_mean: {abs(depth_diff).mean():.4f}')\n",
    "    print('[Depth error]')\n",
    "    box_depth_error_calculation(depth_GT, depth_ELAN, 5)"
   ]
  },
  {
   "cell_type": "code",
   "execution_count": 114,
   "metadata": {},
   "outputs": [
    {
     "name": "stdout",
     "output_type": "stream",
     "text": [
      "[DIM diff] H:0.2122, W:0.1649, L:0.6711\n",
      "[Alpha diff] abs_mean: 0.2065\n"
     ]
    },
    {
     "data": {
      "image/png": "[encoded data removed]",
      "text/plain": [
       "<Figure size 432x288 with 1 Axes>"
      ]
     },
     "metadata": {
      "needs_background": "light"
     },
     "output_type": "display_data"
    },
    {
     "name": "stdout",
     "output_type": "stream",
     "text": [
      "[Depth diff] abs_mean: 4.8946\n",
      "[Depth error]\n",
      "num of Car: 665\n",
      "\tnum of depth 0-10: 0 \n",
      "\tnum of depth 10-20: 68   abs_delta mean:3.023m, Out of 5m: 9\n",
      "\tnum of depth 20-30: 142   abs_delta mean:3.897m, Out of 5m: 44\n",
      "\tnum of depth 30-40: 259   abs_delta mean:4.124m, Out of 5m: 81\n",
      "\tnum of depth 40-50: 95   abs_delta mean:6.833m, Out of 5m: 53\n",
      "\tnum of depth 50-60: 50   abs_delta mean:8.071m, Out of 5m: 28\n",
      "\tnum of depth 60+: 51     abs_delta mean:7.357m, Out of 5m: 30\n",
      "[Total] mean:4.895, std:4.515\n",
      "\n",
      "||||||||||||||||||||||||||||||||||||||||\n",
      "\n",
      "[DIM diff] H:0.1895, W:0.1425, L:0.5650\n",
      "[Alpha diff] abs_mean: 0.1376\n"
     ]
    },
    {
     "data": {
      "image/png": "[encoded data removed]",
      "text/plain": [
       "<Figure size 432x288 with 1 Axes>"
      ]
     },
     "metadata": {
      "needs_background": "light"
     },
     "output_type": "display_data"
    },
    {
     "name": "stdout",
     "output_type": "stream",
     "text": [
      "[Depth diff] abs_mean: 4.8328\n",
      "[Depth error]\n",
      "num of Car: 665\n",
      "\tnum of depth 0-10: 0 \n",
      "\tnum of depth 10-20: 68   abs_delta mean:3.505m, Out of 5m: 17\n",
      "\tnum of depth 20-30: 142   abs_delta mean:4.003m, Out of 5m: 42\n",
      "\tnum of depth 30-40: 259   abs_delta mean:4.019m, Out of 5m: 73\n",
      "\tnum of depth 40-50: 95   abs_delta mean:6.583m, Out of 5m: 48\n",
      "\tnum of depth 50-60: 50   abs_delta mean:8.016m, Out of 5m: 29\n",
      "\tnum of depth 60+: 51     abs_delta mean:6.668m, Out of 5m: 32\n",
      "[Total] mean:4.833, std:4.559\n"
     ]
    }
   ],
   "source": [
    "# BL_IMAGENET BL_ELAN\n",
    "# video_IMAGENET video_ELAN\n",
    "\n",
    "ELAN_eval_metrics('BL_ELAN')\n",
    "print()\n",
    "print('||'*20)\n",
    "print()\n",
    "ELAN_eval_metrics('video_ELAN')"
   ]
  },
  {
   "cell_type": "markdown",
   "metadata": {},
   "source": [
    "## Eval result : improvement of objects"
   ]
  },
  {
   "cell_type": "code",
   "execution_count": 94,
   "metadata": {},
   "outputs": [
    {
     "name": "stdout",
     "output_type": "stream",
     "text": [
      "0\n"
     ]
    }
   ],
   "source": [
    "print(len(V_labels))"
   ]
  },
  {
   "cell_type": "code",
   "execution_count": 100,
   "metadata": {},
   "outputs": [
    {
     "name": "stdout",
     "output_type": "stream",
     "text": [
      "0\n",
      "500\n",
      "0\n",
      "500\n",
      "0\n",
      "500\n"
     ]
    }
   ],
   "source": [
    "import glob\n",
    "trainset = [x.strip() for x in open('Elan_3d_box/ImageSets/train.txt').readlines()]\n",
    "valset = [x.strip() for x in open('Elan_3d_box/ImageSets/val.txt').readlines()]\n",
    "val_images = sorted(glob.glob('Elan_3d_box/image_2/*.png'))[-1*len(valset):] \n",
    "GT_labels = sorted(glob.glob('Elan_3d_box/renew_label/*.txt'))[-1*len(valset):]\n",
    "\n",
    "# video_ELAN video_IMAGENET\n",
    "V_labels = sorted(glob.glob('video_ELAN/label_2/*.txt'))[-1*len(valset):]\n",
    "# BL_ELAN BL_IMAGENET\n",
    "BL_labels = sorted(glob.glob('BL_ELAN/label_2/*.txt'))[-1*len(valset):]\n",
    "assert len(valset) == len(V_labels), 'video_label length diff'\n",
    "assert len(valset) == len(BL_labels), 'BL_label length diff'\n",
    "\n",
    "GT_tracking_dict = tracking_obj_by_labels(GT_labels, val_images, WRITE_FILE=False)\n",
    "V_tracking_dict = tracking_obj_by_labels(V_labels, val_images, WRITE_FILE=False)\n",
    "BL_tracking_dict = tracking_obj_by_labels(BL_labels, val_images, WRITE_FILE=False)"
   ]
  },
  {
   "cell_type": "code",
   "execution_count": 101,
   "metadata": {},
   "outputs": [],
   "source": [
    "other_count = 0\n",
    "c = 0\n",
    "dim_GT_1 = list()\n",
    "dim_V_1 = list()\n",
    "dim_BL_1 = list()\n",
    "\n",
    "dim_GT_f = list()\n",
    "dim_V_f = list()\n",
    "dim_BL_f = list()\n",
    "\n",
    "classes = ['motor', 'bus', 'car']\n",
    "for key in GT_tracking_dict.keys():\n",
    "    GT_obj = GT_tracking_dict[key]\n",
    "    V_obj = V_tracking_dict[key]\n",
    "    BL_obj = BL_tracking_dict[key]\n",
    "    if GT_obj.class_.lower() != 'car':\n",
    "        other_count += 1\n",
    "        continue\n",
    "    if (V_obj.box2d != BL_obj.box2d).all() or (V_obj.box2d != GT_obj.box2d).all() or (GT_obj.box2d != BL_obj.box2d).all():\n",
    "        print('Box 2D diff:', key)\n",
    "        break\n",
    "        \n",
    "    if len(GT_obj.frames) == 1:\n",
    "        dim_GT_1.append(GT_obj.dims[0])\n",
    "        dim_V_1.append(V_obj.dims[0])\n",
    "        dim_BL_1.append(BL_obj.dims[0])\n",
    "    else:\n",
    "        dim_GT_f += GT_obj.dims\n",
    "        dim_V_f += V_obj.dims\n",
    "        dim_BL_f += BL_obj.dims\n",
    "    c += 1 "
   ]
  },
  {
   "cell_type": "code",
   "execution_count": 102,
   "metadata": {
    "scrolled": true
   },
   "outputs": [
    {
     "name": "stdout",
     "output_type": "stream",
     "text": [
      "1 frame\n",
      "[0.236875 0.21625  0.817875]\n",
      "[0.174875 0.178625 0.608625]\n",
      "multi- frame\n",
      "[0.21197952 0.15894198 0.66158703]\n",
      "[0.1937372  0.13837884 0.56926621]\n"
     ]
    }
   ],
   "source": [
    "dim_GT_1 = np.array(dim_GT_1)\n",
    "dim_V_1 = np.array(dim_V_1)\n",
    "dim_BL_1 = np.array(dim_BL_1)\n",
    "dim_GT_f = np.array(dim_GT_f)\n",
    "dim_V_f = np.array(dim_V_f)\n",
    "dim_BL_f = np.array(dim_BL_f)\n",
    "\n",
    "V_dim_diff_1 = np.mean(abs(dim_GT_1 - dim_V_1), axis=0)\n",
    "BL_dim_diff_1 = np.mean(abs(dim_GT_1 - dim_BL_1), axis=0)\n",
    "print('1 frame')\n",
    "\n",
    "print(BL_dim_diff_1)\n",
    "print(V_dim_diff_1)\n",
    "\n",
    "V_dim_diff_f = np.mean(abs(dim_GT_f - dim_V_f), axis=0)\n",
    "BL_dim_diff_f = np.mean(abs(dim_GT_f - dim_BL_f), axis=0)\n",
    "print('multi- frame')\n",
    "print(BL_dim_diff_f)\n",
    "print(V_dim_diff_f)"
   ]
  },
  {
   "cell_type": "code",
   "execution_count": 104,
   "metadata": {},
   "outputs": [
    {
     "name": "stdout",
     "output_type": "stream",
     "text": [
      "[0.21496997 0.16582583 0.68036036]\n",
      "[0.19147147 0.14321321 0.57399399]\n"
     ]
    }
   ],
   "source": [
    "V_dim_diff_1 = abs(dim_GT_1 - dim_V_1)\n",
    "BL_dim_diff_1 = abs(dim_GT_1 - dim_BL_1)\n",
    "V_dim_diff_f = abs(dim_GT_f - dim_V_f)\n",
    "BL_dim_diff_f = abs(dim_GT_f - dim_BL_f)\n",
    "\n",
    "BL = np.concatenate((BL_dim_diff_1, BL_dim_diff_f))\n",
    "print(np.mean(BL, axis=0))\n",
    "\n",
    "V = np.concatenate((V_dim_diff_1, V_dim_diff_f))\n",
    "print(np.mean(V, axis=0))\n"
   ]
  }
 ],
 "metadata": {
  "kernelspec": {
   "display_name": "Python 3",
   "language": "python",
   "name": "python3"
  },
  "language_info": {
   "codemirror_mode": {
    "name": "ipython",
    "version": 3
   },
   "file_extension": ".py",
   "mimetype": "text/x-python",
   "name": "python",
   "nbconvert_exporter": "python",
   "pygments_lexer": "ipython3",
   "version": "3.8.5"
  }
 },
 "nbformat": 4,
 "nbformat_minor": 5
}
