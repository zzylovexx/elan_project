{
 "cells": [
  {
   "cell_type": "code",
   "execution_count": 2,
   "id": "40eb07a3",
   "metadata": {},
   "outputs": [
    {
     "data": {
      "text/plain": [
       "array([1.52608343, 1.62858987, 3.88395449])"
      ]
     },
     "execution_count": 2,
     "metadata": {},
     "output_type": "execute_result"
    }
   ],
   "source": [
    "def get_box_by_center(center, box_size):\n",
    "    box_W = box_size[0]\n",
    "    box_H = box_size[1]\n",
    "    top_left = [center[0]-box_W//2, center[1]-box_H//2]\n",
    "    btm_right = [center[0]+box_W//2, center[1]+box_H//2]\n",
    "    return top_left, btm_right\n",
    "\n",
    "#assume box is square, obj_W using averages['Car']\n",
    "def depth_to_obj_pixel_W(depth, img_W, obj_W, cam_to_img):\n",
    "    #fovx = 2 * np.arctan(img_W / (2 * cam_to_img[0][0]))\n",
    "    tan_fovx_over2 = img_W / (2 * cam_to_img[0][0])\n",
    "    #object_pixel_w = img_W * obj_W / (2 * depth * tan_fovx_over2 )\n",
    "    #object_pixel_w = img_W * obj_W / (2 * depth *img_W / (2 * cam_to_img[0][0]))\n",
    "    object_pixel_w =  obj_W * (cam_to_img[0][0]) / depth #畫簡之後 不需要img_W\n",
    "    return object_pixel_w\n",
    "\n"
   ]
  },
  {
   "cell_type": "code",
   "execution_count": 16,
   "id": "be791fba",
   "metadata": {},
   "outputs": [
    {
     "name": "stdout",
     "output_type": "stream",
     "text": [
      "out of img y-axis:757 depth:1\n",
      "y-axis:328 depth:4\n",
      "y-axis:267 depth:7\n",
      "y-axis:242 depth:10\n",
      "y-axis:229 depth:13\n",
      "y-axis:221 depth:16\n",
      "y-axis:215 depth:19\n",
      "y-axis:211 depth:22\n",
      "y-axis:208 depth:25\n",
      "y-axis:205 depth:28\n",
      "y-axis:203 depth:31\n",
      "y-axis:202 depth:34\n",
      "y-axis:200 depth:37\n",
      "y-axis:199 depth:40\n",
      "y-axis:198 depth:43\n",
      "y-axis:197 depth:46\n",
      "y-axis:196 depth:49\n",
      "y-axis:196 depth:52\n",
      "y-axis:195 depth:55\n",
      "y-axis:195 depth:58\n"
     ]
    },
    {
     "data": {
      "image/png": "[encoded data removed]",
      "text/plain": [
       "<Figure size 640x480 with 1 Axes>"
      ]
     },
     "metadata": {},
     "output_type": "display_data"
    }
   ],
   "source": [
    "import numpy as np\n",
    "import matplotlib.pyplot as plt\n",
    "from library.File import *\n",
    "from library.Plotting import *\n",
    "from torch_lib.ClassAverages import *\n",
    "\n",
    "COLORS = [(255,0,0), (0,255,0), (0,0,255)] # RGB\n",
    "averages = ClassAverages()\n",
    "Dimension = averages.get_item('Car') # height, width, length\n",
    "blank = np.zeros((375,1242,3), dtype=int) #375, 1242, 3\n",
    "img_H = blank.shape[0]\n",
    "img_W = blank.shape[1]\n",
    "cam_to_img = get_P('camera_cal/calib_cam_to_cam.txt') #用calib的也行\n",
    "fovx = 2 * np.arctan(img_W / (2 * cam_to_img[0][0])) #radian\n",
    "# 2*tan(fovx/2) = img_W/cam_to_img[0][0]\n",
    "for depth in [i for i in range(1, 60, 3)]:\n",
    "    calc_obj_pixel = round(depth_to_obj_pixel_W(depth, img_W, Dimension[1], cam_to_img))\n",
    "    box_size = [calc_obj_pixel, calc_obj_pixel] #assume square-2dbox\n",
    "    \n",
    "    location = [0, 0.8, depth]\n",
    "    d3_center = project_3d_pt(location, cam_to_img)\n",
    "    pos_y = d3_center[1]\n",
    "    cv2.line(blank, (0, pos_y), (img_W-1, pos_y), (122,122,0), 2)\n",
    "    cv2.circle(blank, d3_center, 3, COLORS[depth%3], -1)\n",
    "    #print('CENTER',d3_center)\n",
    "    # Left\n",
    "    location = [-8, 0.8, depth]\n",
    "    d3_center = project_3d_pt(location, cam_to_img)\n",
    "    #print('Left', d3_center)\n",
    "    cv2.circle(blank, d3_center, 3, COLORS[depth%3], -1)\n",
    "    top_left, btm_right = get_box_by_center(d3_center, box_size)\n",
    "    cv2.rectangle(blank, top_left, btm_right, (0,0,255), 2)\n",
    "    # Right\n",
    "    location = [+5, 0.8, depth]\n",
    "    d3_center = project_3d_pt(location, cam_to_img)\n",
    "    #print('Right', d3_center)\n",
    "    cv2.circle(blank, d3_center, 3, COLORS[depth%3], -1)\n",
    "    top_left, btm_right = get_box_by_center(d3_center, box_size)\n",
    "    cv2.rectangle(blank, top_left, btm_right, (255,0,0), 2)\n",
    "    \n",
    "    if pos_y <= img_H:\n",
    "        print(f'y-axis:{pos_y} depth:{depth}')\n",
    "    else:\n",
    "        print(f'out of img y-axis:{pos_y} depth:{depth}')\n",
    "\n",
    "plt.imshow(blank)\n",
    "plt.show()"
   ]
  }
 ],
 "metadata": {
  "kernelspec": {
   "display_name": "Python 3 (ipykernel)",
   "language": "python",
   "name": "python3"
  },
  "language_info": {
   "codemirror_mode": {
    "name": "ipython",
    "version": 3
   },
   "file_extension": ".py",
   "mimetype": "text/x-python",
   "name": "python",
   "nbconvert_exporter": "python",
   "pygments_lexer": "ipython3",
   "version": "3.9.12"
  }
 },
 "nbformat": 4,
 "nbformat_minor": 5
}
