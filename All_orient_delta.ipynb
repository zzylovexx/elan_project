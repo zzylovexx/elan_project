{
 "cells": [
  {
   "cell_type": "code",
   "execution_count": 1,
   "id": "2e418a5b",
   "metadata": {},
   "outputs": [],
   "source": [
    "import os\n",
    "import glob\n",
    "import numpy as np\n",
    "\n",
    "def get_all_alpha_ry(label_root):\n",
    "    labels = glob.glob(os.path.join(label_root, '*.txt'), recursive=True)\n",
    "    Alphas = list()\n",
    "    Rys = list()\n",
    "    for i in range(len(labels)):\n",
    "        with open(labels[i]) as f:\n",
    "            lines = f.readlines()\n",
    "            for idx, line in enumerate(lines):\n",
    "                elements = line[:-1].split()\n",
    "                if elements[0] == 'DontCare':\n",
    "                    continue\n",
    "                alpha = float(elements[3])\n",
    "                ry = float(elements[14])\n",
    "                Alphas.append(alpha)\n",
    "                Rys.append(ry)\n",
    "    Alphas = np.array(Alphas)\n",
    "    Rys = np.array(Rys)\n",
    "    return Alphas, Rys "
   ]
  },
  {
   "cell_type": "markdown",
   "id": "cabbbcea",
   "metadata": {},
   "source": [
    "## GT part, run once and load npy in future"
   ]
  },
  {
   "cell_type": "code",
   "execution_count": 2,
   "id": "a502928d",
   "metadata": {},
   "outputs": [],
   "source": [
    "os.makedirs('orient_delta', exist_ok=True)\n",
    "gt_alphas, gt_rys = get_all_alpha_ry(label_root='./Kitti/training/label_2') # len 40570\n",
    "np.save('orient_delta/gt_alphas.npy', gt_alphas)\n",
    "np.save('orient_delta/gt_rys.npy', gt_rys)\n",
    "#gt_alpha = np.load('orient_delta/gt_alphas.npy')\n",
    "#gt_ry = np.load('orient_delta/gt_rys.npy')"
   ]
  },
  {
   "cell_type": "markdown",
   "id": "79d07e95",
   "metadata": {},
   "source": [
    "## Eval part, for generated pred labels"
   ]
  },
  {
   "cell_type": "code",
   "execution_count": 3,
   "id": "fcadce5d",
   "metadata": {},
   "outputs": [],
   "source": [
    "# best sum() 40570, mean() 1\n",
    "def angle_criterion(PRED, GT):\n",
    "    cos_delta = np.cos(PRED - GT)\n",
    "    return cos_delta\n",
    "    #return (1+cos_delta)/2"
   ]
  },
  {
   "cell_type": "code",
   "execution_count": 7,
   "id": "20949457",
   "metadata": {},
   "outputs": [
    {
     "ename": "ValueError",
     "evalue": "operands could not be broadcast together with shapes (41758,) (40570,) ",
     "output_type": "error",
     "traceback": [
      "\u001b[0;31m---------------------------------------------------------------------------\u001b[0m",
      "\u001b[0;31mValueError\u001b[0m                                Traceback (most recent call last)",
      "Cell \u001b[0;32mIn[7], line 8\u001b[0m\n\u001b[1;32m      5\u001b[0m np\u001b[39m.\u001b[39msave(\u001b[39mf\u001b[39m\u001b[39m'\u001b[39m\u001b[39morient_delta/\u001b[39m\u001b[39m{\u001b[39;00meval_folder\u001b[39m}\u001b[39;00m\u001b[39m/eval_rys.npy\u001b[39m\u001b[39m'\u001b[39m, eval_rys)\n\u001b[1;32m      6\u001b[0m \u001b[39m#eval_alphas = np.load(f'orient_delta/{eval_folder}/eval_alphas.npy')\u001b[39;00m\n\u001b[1;32m      7\u001b[0m \u001b[39m#eval_rys = np.load(f'orient_delta/{eval_folder}/eval_rys.npy')\u001b[39;00m\n\u001b[0;32m----> 8\u001b[0m delta_alpha \u001b[39m=\u001b[39m angle_criterion(eval_alphas, gt_alphas)\n\u001b[1;32m      9\u001b[0m delta_ry \u001b[39m=\u001b[39m angle_criterion(eval_rys, gt_rys)\n\u001b[1;32m     10\u001b[0m \u001b[39mprint\u001b[39m(\u001b[39mf\u001b[39m\u001b[39m'\u001b[39m\u001b[39mAlpha sum:\u001b[39m\u001b[39m{\u001b[39;00mdelta_alpha\u001b[39m.\u001b[39msum()\u001b[39m}\u001b[39;00m\u001b[39m, mean:\u001b[39m\u001b[39m{\u001b[39;00mdelta_alpha\u001b[39m.\u001b[39mmean()\u001b[39m}\u001b[39;00m\u001b[39m'\u001b[39m)\n",
      "Cell \u001b[0;32mIn[3], line 3\u001b[0m, in \u001b[0;36mangle_criterion\u001b[0;34m(PRED, GT)\u001b[0m\n\u001b[1;32m      2\u001b[0m \u001b[39mdef\u001b[39;00m \u001b[39mangle_criterion\u001b[39m(PRED, GT):\n\u001b[0;32m----> 3\u001b[0m     cos_delta \u001b[39m=\u001b[39m np\u001b[39m.\u001b[39mcos(PRED \u001b[39m-\u001b[39;49m GT)\n\u001b[1;32m      4\u001b[0m     \u001b[39mreturn\u001b[39;00m cos_delta\n",
      "\u001b[0;31mValueError\u001b[0m: operands could not be broadcast together with shapes (41758,) (40570,) "
     ]
    }
   ],
   "source": [
    "eval_folder = 'multi_bin_yolo_kitti20'\n",
    "os.makedirs(f'orient_delta/{eval_folder}', exist_ok=True)\n",
    "eval_alphas, eval_rys = get_all_alpha_ry(label_root=eval_folder) # len 40570\n",
    "np.save(f'orient_delta/{eval_folder}/eval_alphas.npy', eval_alphas)\n",
    "np.save(f'orient_delta/{eval_folder}/eval_rys.npy', eval_rys)\n",
    "#eval_alphas = np.load(f'orient_delta/{eval_folder}/eval_alphas.npy')\n",
    "#eval_rys = np.load(f'orient_delta/{eval_folder}/eval_rys.npy')\n",
    "delta_alpha = angle_criterion(eval_alphas, gt_alphas)\n",
    "delta_ry = angle_criterion(eval_rys, gt_rys)\n",
    "print(f'Alpha sum:{delta_alpha.sum()}, mean:{delta_alpha.mean()}')\n",
    "print(f'Ry sum:{delta_ry.sum()}, mean:{delta_ry.mean()}')"
   ]
  }
 ],
 "metadata": {
  "kernelspec": {
   "display_name": "Python 3.8.16 ('pytorch1')",
   "language": "python",
   "name": "python3"
  },
  "language_info": {
   "codemirror_mode": {
    "name": "ipython",
    "version": 3
   },
   "file_extension": ".py",
   "mimetype": "text/x-python",
   "name": "python",
   "nbconvert_exporter": "python",
   "pygments_lexer": "ipython3",
   "version": "3.8.16"
  },
  "vscode": {
   "interpreter": {
    "hash": "b7d7c100ca5ca98538b307c86bed98b1e3fa5ad069a975606ade551982971959"
   }
  }
 },
 "nbformat": 4,
 "nbformat_minor": 5
}
