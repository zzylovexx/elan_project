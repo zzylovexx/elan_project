{
 "cells": [
  {
   "cell_type": "code",
   "execution_count": 1,
   "id": "2e418a5b",
   "metadata": {},
   "outputs": [],
   "source": [
    "import os\n",
    "import glob\n",
    "import numpy as np\n",
    "\n",
    "def get_all_alpha_ry(label_root):\n",
    "    labels = glob.glob(os.path.join(label_root, '*.txt'), recursive=True)\n",
    "    Alphas = list()\n",
    "    Rys = list()\n",
    "    for i in range(len(labels)):\n",
    "        with open(labels[i]) as f:\n",
    "            lines = f.readlines()\n",
    "            for idx, line in enumerate(lines):\n",
    "                elements = line[:-1].split()\n",
    "                if elements[0] == 'DontCare':\n",
    "                    continue\n",
    "                alpha = float(elements[3])\n",
    "                ry = float(elements[14])\n",
    "                Alphas.append(alpha)\n",
    "                Rys.append(ry)\n",
    "    Alphas = np.array(Alphas)\n",
    "    Rys = np.array(Rys)\n",
    "    return Alphas, Rys "
   ]
  },
  {
   "cell_type": "markdown",
   "id": "cabbbcea",
   "metadata": {},
   "source": [
    "## GT part, run once and load npy in future"
   ]
  },
  {
   "cell_type": "code",
   "execution_count": 2,
   "id": "a502928d",
   "metadata": {},
   "outputs": [],
   "source": [
    "os.makedirs('orient_delta', exist_ok=True)\n",
    "#gt_alphas, gt_rys = get_all_alpha_ry(label_root='./Kitti/training/label_2') # len 40570\n",
    "#np.save('orient_delta/gt_alphas.npy', gt_alphas)\n",
    "#np.save('orient_delta/gt_rys.npy', gt_rys)\n",
    "gt_alphas = np.load('orient_delta/gt_alphas.npy')\n",
    "gt_rys = np.load('orient_delta/gt_rys.npy')"
   ]
  },
  {
   "cell_type": "markdown",
   "id": "79d07e95",
   "metadata": {},
   "source": [
    "## Eval part, for generated pred labels"
   ]
  },
  {
   "cell_type": "code",
   "execution_count": 3,
   "id": "fcadce5d",
   "metadata": {},
   "outputs": [],
   "source": [
    "# best sum() 40570, mean() 1\n",
    "def angle_criterion(PRED, GT):\n",
    "    cos_delta = np.cos(PRED - GT)\n",
    "    return cos_delta\n",
    "    #return (1+cos_delta)/2"
   ]
  },
  {
   "cell_type": "code",
   "execution_count": 9,
   "id": "5db13ced",
   "metadata": {},
   "outputs": [
    {
     "name": "stdout",
     "output_type": "stream",
     "text": [
      "Alpha sum:40061.986447780764, mean:0.987478098293832\n",
      "Ry sum:39995.551652176895, mean:0.985840563277715\n"
     ]
    }
   ],
   "source": [
    "eval_folder = 'BL_class2angle'\n",
    "os.makedirs(f'orient_delta/{eval_folder}', exist_ok=True)\n",
    "#eval_alphas, eval_rys = get_all_alpha_ry(label_root=eval_folder) # len 40570\n",
    "#np.save(f'orient_delta/{eval_folder}/eval_alphas.npy', eval_alphas)\n",
    "#np.save(f'orient_delta/{eval_folder}/eval_rys.npy', eval_rys)\n",
    "eval_alphas = np.load(f'orient_delta/{eval_folder}/eval_alphas.npy')\n",
    "eval_rys = np.load(f'orient_delta/{eval_folder}/eval_rys.npy')\n",
    "delta_alpha = angle_criterion(eval_alphas, gt_alphas)\n",
    "delta_ry = angle_criterion(eval_rys, gt_rys)\n",
    "print(f'Alpha sum:{delta_alpha.sum()}, mean:{delta_alpha.mean()}')\n",
    "print(f'Ry sum:{delta_ry.sum()}, mean:{delta_ry.mean()}')"
   ]
  },
  {
   "cell_type": "markdown",
   "id": "c84b1ff9",
   "metadata": {},
   "source": [
    "# 24 BIN"
   ]
  },
  {
   "cell_type": "code",
   "execution_count": 5,
   "id": "20949457",
   "metadata": {},
   "outputs": [
    {
     "name": "stdout",
     "output_type": "stream",
     "text": [
      "Alpha sum:40044.89146299424, mean:0.9870567281980339\n",
      "Ry sum:39994.49876609354, mean:0.9858146109463529\n"
     ]
    }
   ],
   "source": [
    "eval_folder = 'BL_24bin'\n",
    "os.makedirs(f'orient_delta/{eval_folder}', exist_ok=True)\n",
    "#eval_alphas, eval_rys = get_all_alpha_ry(label_root=eval_folder) # len 40570\n",
    "#np.save(f'orient_delta/{eval_folder}/eval_alphas.npy', eval_alphas)\n",
    "#np.save(f'orient_delta/{eval_folder}/eval_rys.npy', eval_rys)\n",
    "eval_alphas = np.load(f'orient_delta/{eval_folder}/eval_alphas.npy')\n",
    "eval_rys = np.load(f'orient_delta/{eval_folder}/eval_rys.npy')\n",
    "delta_alpha = angle_criterion(eval_alphas, gt_alphas)\n",
    "delta_ry = angle_criterion(eval_rys, gt_rys)\n",
    "print(f'Alpha sum:{delta_alpha.sum()}, mean:{delta_alpha.mean()}')\n",
    "print(f'Ry sum:{delta_ry.sum()}, mean:{delta_ry.mean()}')"
   ]
  },
  {
   "cell_type": "code",
   "execution_count": 21,
   "id": "775c47d6",
   "metadata": {},
   "outputs": [
    {
     "name": "stdout",
     "output_type": "stream",
     "text": [
      "Alpha sum:40044.89146299424, mean:0.9870567281980339\n",
      "Ry sum:39994.49876609354, mean:0.9858146109463529\n"
     ]
    }
   ],
   "source": [
    "eval_folder = 'BL_24bin_no_round'\n",
    "os.makedirs(f'orient_delta/{eval_folder}', exist_ok=True)\n",
    "eval_alphas, eval_rys = get_all_alpha_ry(label_root=eval_folder) # len 40570\n",
    "np.save(f'orient_delta/{eval_folder}/eval_alphas.npy', eval_alphas)\n",
    "np.save(f'orient_delta/{eval_folder}/eval_rys.npy', eval_rys)\n",
    "#eval_alphas = np.load(f'orient_delta/{eval_folder}/eval_alphas.npy')\n",
    "#eval_rys = np.load(f'orient_delta/{eval_folder}/eval_rys.npy')\n",
    "delta_alpha = angle_criterion(eval_alphas, gt_alphas)\n",
    "delta_ry = angle_criterion(eval_rys, gt_rys)\n",
    "print(f'Alpha sum:{delta_alpha.sum()}, mean:{delta_alpha.mean()}')\n",
    "print(f'Ry sum:{delta_ry.sum()}, mean:{delta_ry.mean()}')"
   ]
  },
  {
   "cell_type": "code",
   "execution_count": 16,
   "id": "eac244da",
   "metadata": {},
   "outputs": [
    {
     "name": "stdout",
     "output_type": "stream",
     "text": [
      "Alpha sum:39913.558617678835, mean:0.9838195370391628\n",
      "Ry sum:39870.29000176671, mean:0.9827530195160639\n"
     ]
    }
   ],
   "source": [
    "eval_folder = 'Group_24bin'\n",
    "os.makedirs(f'orient_delta/{eval_folder}', exist_ok=True)\n",
    "eval_alphas, eval_rys = get_all_alpha_ry(label_root=eval_folder) # len 40570\n",
    "np.save(f'orient_delta/{eval_folder}/eval_alphas.npy', eval_alphas)\n",
    "np.save(f'orient_delta/{eval_folder}/eval_rys.npy', eval_rys)\n",
    "#eval_alphas1 = np.load(f'orient_delta/{eval_folder}/eval_alphas.npy')\n",
    "#eval_rys1 = np.load(f'orient_delta/{eval_folder}/eval_rys.npy')\n",
    "delta_alpha = angle_criterion(eval_alphas, gt_alphas)\n",
    "delta_ry = angle_criterion(eval_rys, gt_rys)\n",
    "print(f'Alpha sum:{delta_alpha.sum()}, mean:{delta_alpha.mean()}')\n",
    "print(f'Ry sum:{delta_ry.sum()}, mean:{delta_ry.mean()}')"
   ]
  },
  {
   "cell_type": "code",
   "execution_count": 20,
   "id": "008880b3",
   "metadata": {},
   "outputs": [
    {
     "name": "stdout",
     "output_type": "stream",
     "text": [
      "Alpha sum:39976.654125292625, mean:0.9853747627629437\n",
      "Ry sum:39929.92543408659, mean:0.9842229586908205\n"
     ]
    }
   ],
   "source": [
    "eval_folder = 'Group_24bin_no_round'\n",
    "os.makedirs(f'orient_delta/{eval_folder}', exist_ok=True)\n",
    "eval_alphas, eval_rys = get_all_alpha_ry(label_root=eval_folder) # len 40570\n",
    "np.save(f'orient_delta/{eval_folder}/eval_alphas.npy', eval_alphas)\n",
    "np.save(f'orient_delta/{eval_folder}/eval_rys.npy', eval_rys)\n",
    "#eval_alphas2 = np.load(f'orient_delta/{eval_folder}/eval_alphas.npy')\n",
    "#eval_rys2 = np.load(f'orient_delta/{eval_folder}/eval_rys.npy')\n",
    "delta_alpha = angle_criterion(eval_alphas, gt_alphas)\n",
    "delta_ry = angle_criterion(eval_rys, gt_rys)\n",
    "print(f'Alpha sum:{delta_alpha.sum()}, mean:{delta_alpha.mean()}')\n",
    "print(f'Ry sum:{delta_ry.sum()}, mean:{delta_ry.mean()}')"
   ]
  },
  {
   "cell_type": "code",
   "execution_count": 18,
   "id": "a48f93fc",
   "metadata": {},
   "outputs": [
    {
     "data": {
      "text/plain": [
       "True"
      ]
     },
     "execution_count": 18,
     "metadata": {},
     "output_type": "execute_result"
    }
   ],
   "source": [
    "(eval_alphas1 == eval_alphas1).all()"
   ]
  },
  {
   "cell_type": "markdown",
   "id": "0858bd22",
   "metadata": {},
   "source": [
    "# 36 BIN"
   ]
  },
  {
   "cell_type": "code",
   "execution_count": 6,
   "id": "ecea9a0c",
   "metadata": {},
   "outputs": [
    {
     "name": "stdout",
     "output_type": "stream",
     "text": [
      "Alpha sum:39976.52968460096, mean:0.9853716954547932\n",
      "Ry sum:39929.7178208485, mean:0.9842178412829307\n"
     ]
    }
   ],
   "source": [
    "eval_folder = 'BL_36bin'\n",
    "os.makedirs(f'orient_delta/{eval_folder}', exist_ok=True)\n",
    "#eval_alphas, eval_rys = get_all_alpha_ry(label_root=eval_folder) # len 40570\n",
    "#np.save(f'orient_delta/{eval_folder}/eval_alphas.npy', eval_alphas)\n",
    "#np.save(f'orient_delta/{eval_folder}/eval_rys.npy', eval_rys)\n",
    "eval_alphas = np.load(f'orient_delta/{eval_folder}/eval_alphas.npy')\n",
    "eval_rys = np.load(f'orient_delta/{eval_folder}/eval_rys.npy')\n",
    "delta_alpha = angle_criterion(eval_alphas, gt_alphas)\n",
    "delta_ry = angle_criterion(eval_rys, gt_rys)\n",
    "print(f'Alpha sum:{delta_alpha.sum()}, mean:{delta_alpha.mean()}')\n",
    "print(f'Ry sum:{delta_ry.sum()}, mean:{delta_ry.mean()}')"
   ]
  },
  {
   "cell_type": "code",
   "execution_count": 19,
   "id": "86c4b98b",
   "metadata": {},
   "outputs": [
    {
     "name": "stdout",
     "output_type": "stream",
     "text": [
      "Alpha sum:39976.654125292625, mean:0.9853747627629437\n",
      "Ry sum:39929.92543408659, mean:0.9842229586908205\n"
     ]
    }
   ],
   "source": [
    "eval_folder = 'BL_36bin_no_round'\n",
    "os.makedirs(f'orient_delta/{eval_folder}', exist_ok=True)\n",
    "eval_alphas, eval_rys = get_all_alpha_ry(label_root=eval_folder) # len 40570\n",
    "np.save(f'orient_delta/{eval_folder}/eval_alphas.npy', eval_alphas)\n",
    "np.save(f'orient_delta/{eval_folder}/eval_rys.npy', eval_rys)\n",
    "#eval_alphas = np.load(f'orient_delta/{eval_folder}/eval_alphas.npy')\n",
    "#eval_rys = np.load(f'orient_delta/{eval_folder}/eval_rys.npy')\n",
    "delta_alpha = angle_criterion(eval_alphas, gt_alphas)\n",
    "delta_ry = angle_criterion(eval_rys, gt_rys)\n",
    "print(f'Alpha sum:{delta_alpha.sum()}, mean:{delta_alpha.mean()}')\n",
    "print(f'Ry sum:{delta_ry.sum()}, mean:{delta_ry.mean()}')"
   ]
  },
  {
   "cell_type": "code",
   "execution_count": 8,
   "id": "56f902c4",
   "metadata": {},
   "outputs": [
    {
     "name": "stdout",
     "output_type": "stream",
     "text": [
      "Alpha sum:39913.558617678835, mean:0.9838195370391628\n",
      "Ry sum:39870.29000176671, mean:0.9827530195160639\n"
     ]
    }
   ],
   "source": [
    "eval_folder = 'Group_36bin'\n",
    "os.makedirs(f'orient_delta/{eval_folder}', exist_ok=True)\n",
    "eval_alphas, eval_rys = get_all_alpha_ry(label_root=eval_folder) # len 40570\n",
    "np.save(f'orient_delta/{eval_folder}/eval_alphas.npy', eval_alphas)\n",
    "np.save(f'orient_delta/{eval_folder}/eval_rys.npy', eval_rys)\n",
    "#eval_alphas = np.load(f'orient_delta/{eval_folder}/eval_alphas.npy')\n",
    "#eval_rys = np.load(f'orient_delta/{eval_folder}/eval_rys.npy')\n",
    "delta_alpha = angle_criterion(eval_alphas, gt_alphas)\n",
    "delta_ry = angle_criterion(eval_rys, gt_rys)\n",
    "print(f'Alpha sum:{delta_alpha.sum()}, mean:{delta_alpha.mean()}')\n",
    "print(f'Ry sum:{delta_ry.sum()}, mean:{delta_ry.mean()}')"
   ]
  },
  {
   "cell_type": "code",
   "execution_count": 22,
   "id": "5253f7aa",
   "metadata": {},
   "outputs": [
    {
     "name": "stdout",
     "output_type": "stream",
     "text": [
      "Alpha sum:39913.558617678835, mean:0.9838195370391628\n",
      "Ry sum:39870.29000176671, mean:0.9827530195160639\n"
     ]
    }
   ],
   "source": [
    "eval_folder = 'Group_36bin_no_round'\n",
    "os.makedirs(f'orient_delta/{eval_folder}', exist_ok=True)\n",
    "eval_alphas, eval_rys = get_all_alpha_ry(label_root=eval_folder) # len 40570\n",
    "np.save(f'orient_delta/{eval_folder}/eval_alphas.npy', eval_alphas)\n",
    "np.save(f'orient_delta/{eval_folder}/eval_rys.npy', eval_rys)\n",
    "#eval_alphas = np.load(f'orient_delta/{eval_folder}/eval_alphas.npy')\n",
    "#eval_rys = np.load(f'orient_delta/{eval_folder}/eval_rys.npy')\n",
    "delta_alpha = angle_criterion(eval_alphas, gt_alphas)\n",
    "delta_ry = angle_criterion(eval_rys, gt_rys)\n",
    "print(f'Alpha sum:{delta_alpha.sum()}, mean:{delta_alpha.mean()}')\n",
    "print(f'Ry sum:{delta_ry.sum()}, mean:{delta_ry.mean()}')"
   ]
  }
 ],
 "metadata": {
  "kernelspec": {
   "display_name": "Python 3 (ipykernel)",
   "language": "python",
   "name": "python3"
  },
  "language_info": {
   "codemirror_mode": {
    "name": "ipython",
    "version": 3
   },
   "file_extension": ".py",
   "mimetype": "text/x-python",
   "name": "python",
   "nbconvert_exporter": "python",
   "pygments_lexer": "ipython3",
   "version": "3.9.12"
  },
  "vscode": {
   "interpreter": {
    "hash": "b7d7c100ca5ca98538b307c86bed98b1e3fa5ad069a975606ade551982971959"
   }
  }
 },
 "nbformat": 4,
 "nbformat_minor": 5
}
